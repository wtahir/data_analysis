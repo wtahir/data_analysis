{
 "cells": [
  {
   "cell_type": "code",
   "execution_count": 1,
   "metadata": {},
   "outputs": [],
   "source": [
    "import os\n",
    "import pagexml\n",
    "import glob"
   ]
  },
  {
   "cell_type": "code",
   "execution_count": 2,
   "metadata": {},
   "outputs": [],
   "source": [
    "doc_dir = glob.glob('*/page.xml')\n",
    "\n",
    "for xml in doc_dir:\n",
    "    splitRes = xml.split(\"/\")\n",
    "    xml1 = xml.replace(splitRes[len(splitRes) - 1], \"\")\n",
    "    pxml = pagexml.PageXML(xml)\n",
    "    page_list = pxml.select('//_:Page')\n",
    "    \n",
    "    for p, page in enumerate(page_list):\n",
    "        width = pxml.getPageWidth(page)\n",
    "        height = pxml.getPageHeight(page)\n",
    "\n",
    "        img_file = 'image_%d.jpeg' % p\n",
    "\n",
    "        pxml.setPageImageFilename(page, img_file)\n",
    "        cmd = 'mogrify -resize {}x{} {}'.format(width, height, os.path.join(xml1, img_file))\n",
    "        os.system(cmd)\n",
    "    pxml.write(xml)"
   ]
  },
  {
   "cell_type": "code",
   "execution_count": null,
   "metadata": {},
   "outputs": [],
   "source": []
  }
 ],
 "metadata": {
  "kernelspec": {
   "display_name": "Python 3",
   "language": "python",
   "name": "python3"
  },
  "language_info": {
   "codemirror_mode": {
    "name": "ipython",
    "version": 3
   },
   "file_extension": ".py",
   "mimetype": "text/x-python",
   "name": "python",
   "nbconvert_exporter": "python",
   "pygments_lexer": "ipython3",
   "version": "3.6.7"
  }
 },
 "nbformat": 4,
 "nbformat_minor": 2
}
