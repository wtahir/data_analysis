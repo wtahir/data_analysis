{
 "cells": [
  {
   "cell_type": "code",
   "execution_count": 1,
   "id": "38e1e173",
   "metadata": {},
   "outputs": [],
   "source": [
    "import pagexml\n",
    "import pandas as pd\n",
    "import os\n",
    "import numpy as np"
   ]
  },
  {
   "cell_type": "code",
   "execution_count": 34,
   "id": "77155bbd",
   "metadata": {},
   "outputs": [],
   "source": [
    " pd.options.display.max_colwidth = 500"
   ]
  },
  {
   "cell_type": "code",
   "execution_count": 2,
   "id": "6b673d5f",
   "metadata": {},
   "outputs": [
    {
     "name": "stdout",
     "output_type": "stream",
     "text": [
      "510644ca-eaaf-4e99-bfab-d7cbf4855470\n",
      "1807143999 H.Mara@wienerstaedtische.at 069910918397 asbencze@gmail.com AT773300000001827385 RLBBAT2E 1807143999 U816262 01.01.2019 Boltzmanngasse 21/14 1090 Wien Schilderung des Innenglas hat einen durchgehenden vertikalen Sprung bzw. Bruch erlitten. 300 Euro Fensterscheibe, Innenverglasung\n"
     ]
    }
   ],
   "source": [
    "pxml = pagexml.PageXML('VIE001/incomplete/1807143999.xml')\n",
    "\n",
    "# pxml.select(\"//_:TextRegion\")\n",
    "\n",
    "word_elems = pxml.select(\".//_:TextLine\")\n",
    "word_text = [pxml.getTextEquiv(x) for x in word_elems]\n",
    "text = ' '.join(word_text)\n",
    "file = pxml.getValue('/_:PcGts/_:Property[@key=\"uuid\"]/@value')\n",
    "print(file)\n",
    "print(text)"
   ]
  },
  {
   "cell_type": "code",
   "execution_count": 1,
   "id": "818ef5ab",
   "metadata": {},
   "outputs": [],
   "source": [
    "# df = pd.read_csv('VIE001/coverage_check_question_annotation.csv', encoding='latin1')\n",
    "\n",
    "# df['link_copy'] = df['link'] \n",
    "# for index, row in df.iterrows():\n",
    "#     uuid = os.path.basename(row['link_copy'])\n",
    "#     df.loc[uuid == file]\n",
    "#     print(df['link_copy'][617:618])\n",
    "        \n",
    "#     df['link_copy'] = df['link_copy'].str.cat(df['link_copy'], na_rep=text)\n",
    "#         print(df.iloc[600:620])\n",
    "#         df['link'][616:618]\n",
    "        \n",
    "#     if row.str.contains('510644ca-eaaf-4e99-bfab-d7cbf4855470').sum():\n",
    "#         df['link'].replace({df['link'].str:'510644ca-eaaf-4e99-bfab-d7cbf4855470'}, inplace=True)\n",
    "#         df['link'] = df['link'].str.cat(df['link'], na_rep=text)\n",
    "\n",
    "# df.iloc[610:620].to_csv('test.csv')"
   ]
  },
  {
   "cell_type": "code",
   "execution_count": 20,
   "id": "a8709076",
   "metadata": {},
   "outputs": [
    {
     "data": {
      "text/plain": [
       "'v...'"
      ]
     },
     "execution_count": 20,
     "metadata": {},
     "output_type": "execute_result"
    }
   ],
   "source": [
    "os.path.basename(df['link_copy'].to_string())"
   ]
  },
  {
   "cell_type": "code",
   "execution_count": 21,
   "id": "7144b079",
   "metadata": {},
   "outputs": [
    {
     "data": {
      "text/plain": [
       "'0086faab-e144-40b8-acce-cc7e5b40c131'"
      ]
     },
     "execution_count": 21,
     "metadata": {},
     "output_type": "execute_result"
    }
   ],
   "source": [
    "os.path.basename('https://vie001.internal.omnius.com/engine/ui/validate/07595e8f-7147-43f7-b126-7196e1a243da/0086faab-e144-40b8-acce-cc7e5b40c131')"
   ]
  },
  {
   "cell_type": "code",
   "execution_count": 18,
   "id": "5748607e",
   "metadata": {},
   "outputs": [
    {
     "data": {
      "text/plain": [
       "str"
      ]
     },
     "execution_count": 18,
     "metadata": {},
     "output_type": "execute_result"
    }
   ],
   "source": [
    "type(df['link_copy'].to_string())"
   ]
  },
  {
   "cell_type": "code",
   "execution_count": null,
   "id": "5a5f9a13",
   "metadata": {},
   "outputs": [],
   "source": []
  }
 ],
 "metadata": {
  "kernelspec": {
   "display_name": "Python 3",
   "language": "python",
   "name": "python3"
  },
  "language_info": {
   "codemirror_mode": {
    "name": "ipython",
    "version": 3
   },
   "file_extension": ".py",
   "mimetype": "text/x-python",
   "name": "python",
   "nbconvert_exporter": "python",
   "pygments_lexer": "ipython3",
   "version": "3.8.10"
  }
 },
 "nbformat": 4,
 "nbformat_minor": 5
}
