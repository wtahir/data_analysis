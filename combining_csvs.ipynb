{
 "cells": [
  {
   "cell_type": "code",
   "execution_count": 1,
   "metadata": {},
   "outputs": [],
   "source": [
    "import pandas as pd\n",
    "import os\n",
    "import glob"
   ]
  },
  {
   "cell_type": "code",
   "execution_count": 4,
   "metadata": {},
   "outputs": [],
   "source": [
    "all_files = glob.glob('/home/waqas/avrios/*/*.csv')"
   ]
  },
  {
   "cell_type": "code",
   "execution_count": 5,
   "metadata": {},
   "outputs": [],
   "source": [
    "def get_xml(folder):\n",
    "    li_ = glob.glob(os.path.join(folder, '*.xml'))\n",
    "    if not li_:\n",
    "        print(folder)\n",
    "    else:\n",
    "        return li_[0]\n"
   ]
  },
  {
   "cell_type": "code",
   "execution_count": 6,
   "metadata": {},
   "outputs": [
    {
     "name": "stderr",
     "output_type": "stream",
     "text": [
      "/home/waqas/.local/lib/python3.6/site-packages/pandas/core/frame.py:6692: FutureWarning: Sorting because non-concatenation axis is not aligned. A future version\n",
      "of pandas will change to not sort by default.\n",
      "\n",
      "To accept the future behavior, pass 'sort=False'.\n",
      "\n",
      "To retain the current behavior and silence the warning, pass 'sort=True'.\n",
      "\n",
      "  sort=sort)\n"
     ]
    }
   ],
   "source": [
    "names = [os.path.dirname(x) for x in glob.glob('/home/waqas/avrios/*/*.csv')]\n",
    "\n",
    "df = pd.DataFrame()\n",
    "\n",
    "for file_, name in zip(all_files, names):\n",
    "    file_df = pd.read_csv(file_, index_col=None, header=0, sep=\";\")\n",
    "    file_df['file_name'] = name\n",
    "    file_df['pxml'] = file_df['file_name'].apply(get_xml)\n",
    "    df = df.append(file_df)\n",
    "df.to_csv('groundtruth_service.csv', sep ='\\t')"
   ]
  },
  {
   "cell_type": "code",
   "execution_count": 53,
   "metadata": {},
   "outputs": [
    {
     "data": {
      "text/plain": [
       "{'bar': ['baz', None, 1.0, 2]}"
      ]
     },
     "execution_count": 53,
     "metadata": {},
     "output_type": "execute_result"
    }
   ],
   "source": [
    "import json\n",
    "txt=json.dumps(['foo', {'bar': ('baz', None, 1.0, 2)}])\n",
    "\n",
    "with open('tmp.json', 'w') as f:\n",
    "    f.write(txt)\n",
    "    \n",
    "with open('tmp.json', 'r') as f:\n",
    "    txt_in=f.read()\n",
    "txt_in\n",
    "\n",
    "data = json.loads(txt_in)\n",
    "data[1]"
   ]
  },
  {
   "cell_type": "code",
   "execution_count": 27,
   "metadata": {},
   "outputs": [
    {
     "name": "stdout",
     "output_type": "stream",
     "text": [
      "<class 'str'>\n"
     ]
    }
   ],
   "source": [
    "print(type(df.to_json(orient='records')))"
   ]
  },
  {
   "cell_type": "code",
   "execution_count": 29,
   "metadata": {},
   "outputs": [],
   "source": [
    "json_obj = json.loads(df.to_json(orient='records'))"
   ]
  },
  {
   "cell_type": "code",
   "execution_count": null,
   "metadata": {},
   "outputs": [],
   "source": [
    "df['invoice_date_format'] = df.invoice_date.apply(lambda x: parse(x, )"
   ]
  },
  {
   "cell_type": "code",
   "execution_count": 1,
   "metadata": {},
   "outputs": [],
   "source": [
    "import json\n",
    "txt=json.dumps([ {'tag': ('invoice_date'), 'gt_column': ('invoice_date'), 'type': ('date'), 'format': ('%d.%m.%Y')},\n",
    "               {'tag': ('invoice_number'), 'gt_column': ('invoice_number'), 'type': ('string')},\n",
    "               {'tag': ('supplier_name'), 'gt_column': ('supplier_name'), 'type': ('string')},\n",
    "               {'tag': ('amount_gross'), 'gt_column': ('amount_gross'), 'type': ('price')},\n",
    "               {'tag': ('amount_net'), 'gt_column': ('amount_net'), 'type': ('price')},\n",
    "               {'tag': ('currency'), 'gt_column': ('currency'), 'type': ('string')},\n",
    "               {'tag': ('current_mileage'), 'gt_column': ('current_mileage'), 'type': ('string')},\n",
    "               {'tag': ('date_of_mileage'), 'gt_column': ('date_of_mileage'), 'type': ('date'), 'format': ('%d.%m.%Y')},\n",
    "               {'tag': ('driver'), 'gt_column': ('driver'), 'type': ('string')},\n",
    "               {'tag': ('id'), 'gt_column': ('id'), 'type': ('string')},\n",
    "               {'tag': ('invoice_date'), 'gt_column': ('invoice_date'), 'type': ('date'), 'format': ('%d.%m.%Y')},\n",
    "               {'tag': ('invoice_number'), 'gt_column': ('invoice_number'), 'type': ('string')},\n",
    "               {'tag': ('leasing_number'), 'gt_column': ('leasing_number'), 'type': ('string')},\n",
    "               {'tag': ('car_license_plate'), 'gt_column': ('license_plate'), 'type': ('string')},\n",
    "               {'tag': ('line_item_date'), 'gt_column': ('line_item_date'), 'type': ('date'), 'format': ('%d.%m.%Y')},\n",
    "               {'tag': ('line_item_name'), 'gt_column': ('line_item_name'), 'type': ('string')},\n",
    "               {'tag': ('quantity'), 'gt_column': ('quantity'), 'type': ('string')},\n",
    "               {'tag': ('quantity_unit'), 'gt_column': ('quantity_unit'), 'type': ('string')},\n",
    "               {'tag': ('sales_tax'), 'gt_column': ('salex_tax'), 'type': ('string')},\n",
    "               {'tag': ('supplier_name'), 'gt_column': ('supplier_name'), 'type': ('string')},\n",
    "               {'tag': ('total_gross_invoice'), 'gt_column': ('total_gross_invoice'), 'type': ('price')},\n",
    "               {'tag': ('total_net_invoice'), 'gt_column': ('total_net_invoice'), 'type': ('price')},\n",
    "               {'tag': ('vin'), 'gt_column': ('vin'), 'type': ('string')}])"
   ]
  },
  {
   "cell_type": "code",
   "execution_count": 2,
   "metadata": {},
   "outputs": [],
   "source": [
    "with open('config.json', 'w') as f:\n",
    "    f.write(str(txt))"
   ]
  },
  {
   "cell_type": "code",
   "execution_count": null,
   "metadata": {},
   "outputs": [],
   "source": []
  }
 ],
 "metadata": {
  "kernelspec": {
   "display_name": "Python 3",
   "language": "python",
   "name": "python3"
  },
  "language_info": {
   "codemirror_mode": {
    "name": "ipython",
    "version": 3
   },
   "file_extension": ".py",
   "mimetype": "text/x-python",
   "name": "python",
   "nbconvert_exporter": "python",
   "pygments_lexer": "ipython3",
   "version": "3.6.7"
  }
 },
 "nbformat": 4,
 "nbformat_minor": 2
}
