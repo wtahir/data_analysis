{
 "cells": [
  {
   "cell_type": "code",
   "execution_count": 29,
   "metadata": {},
   "outputs": [],
   "source": [
    "import pandas as pd\n",
    "import csv\n",
    "import os\n",
    "import glob"
   ]
  },
  {
   "cell_type": "markdown",
   "metadata": {},
   "source": [
    "# Heading\n",
    "Looping through ground truthed txt files and constructing a dataframe. It has four columns with 'extra' being a column containing the second number plate for the same image."
   ]
  },
  {
   "cell_type": "code",
   "execution_count": 54,
   "metadata": {
    "scrolled": true
   },
   "outputs": [
    {
     "data": {
      "text/html": [
       "<div>\n",
       "<style scoped>\n",
       "    .dataframe tbody tr th:only-of-type {\n",
       "        vertical-align: middle;\n",
       "    }\n",
       "\n",
       "    .dataframe tbody tr th {\n",
       "        vertical-align: top;\n",
       "    }\n",
       "\n",
       "    .dataframe thead th {\n",
       "        text-align: right;\n",
       "    }\n",
       "</style>\n",
       "<table border=\"1\" class=\"dataframe\">\n",
       "  <thead>\n",
       "    <tr style=\"text-align: right;\">\n",
       "      <th></th>\n",
       "      <th>filename</th>\n",
       "      <th>num_plate</th>\n",
       "      <th>type</th>\n",
       "      <th>extra</th>\n",
       "    </tr>\n",
       "  </thead>\n",
       "  <tbody>\n",
       "    <tr>\n",
       "      <th>0</th>\n",
       "      <td>Schadenbild7605799005069298252.plate</td>\n",
       "      <td>ZH 534005</td>\n",
       "      <td>p</td>\n",
       "      <td>NaN</td>\n",
       "    </tr>\n",
       "    <tr>\n",
       "      <th>0</th>\n",
       "      <td>Schadenbild8274037992390839155.plate</td>\n",
       "      <td>BE 113312</td>\n",
       "      <td>r</td>\n",
       "      <td>NaN</td>\n",
       "    </tr>\n",
       "    <tr>\n",
       "      <th>0</th>\n",
       "      <td>Schadenbild6934044350634881206.plate</td>\n",
       "      <td>NaN</td>\n",
       "      <td>n</td>\n",
       "      <td>NaN</td>\n",
       "    </tr>\n",
       "    <tr>\n",
       "      <th>0</th>\n",
       "      <td>Schadenbild220789365068531090.plate</td>\n",
       "      <td>ZH264693</td>\n",
       "      <td>p</td>\n",
       "      <td>NaN</td>\n",
       "    </tr>\n",
       "    <tr>\n",
       "      <th>0</th>\n",
       "      <td>Schadenbild7340812035725409728.plate</td>\n",
       "      <td>TS 452584</td>\n",
       "      <td>c</td>\n",
       "      <td>NaN</td>\n",
       "    </tr>\n",
       "  </tbody>\n",
       "</table>\n",
       "</div>"
      ],
      "text/plain": [
       "                               filename  num_plate type extra\n",
       "0  Schadenbild7605799005069298252.plate  ZH 534005    p   NaN\n",
       "0  Schadenbild8274037992390839155.plate  BE 113312    r   NaN\n",
       "0  Schadenbild6934044350634881206.plate        NaN    n   NaN\n",
       "0   Schadenbild220789365068531090.plate   ZH264693    p   NaN\n",
       "0  Schadenbild7340812035725409728.plate  TS 452584    c   NaN"
      ]
     },
     "execution_count": 54,
     "metadata": {},
     "output_type": "execute_result"
    }
   ],
   "source": [
    "os.chdir('/home/waqas/sandbox/bas/bas1/input/')\n",
    "\n",
    "filelist = []\n",
    "filesList = []\n",
    "\n",
    "for files in glob.glob(\"gt/*.txt\"):\n",
    "    filelist.append(files)\n",
    "    filesList.append(files)\n",
    "\n",
    "df_gt = pd.DataFrame()\n",
    "for file in filelist:\n",
    "    frame = pd.read_csv(file,header=None,index_col=None)\n",
    "    frame['filename'] = file[3:].strip('.jpg.txt')\n",
    "    frame['filename'] = frame['filename'].astype(str) + '.plate'\n",
    "    df_gt = df_gt.append(frame)\n",
    "\n",
    "df_gt.columns = ('type', 'num_plate','filename','extra')\n",
    "columns1 = ['filename', 'num_plate', 'type', 'extra']\n",
    "df_gt = df_gt.reindex(columns=columns1)\n",
    "df_gt.head()"
   ]
  },
  {
   "cell_type": "markdown",
   "metadata": {},
   "source": [
    "# Heading\n",
    "Getting only filenames and number plates columns. 'Type' and 'extra' columns are not important for generating a ground truth file which is served as input to text_recognition_report.py. Later all the types added to number plates are removed and dataframe is saved in form of a txt file which is actual ground truthed txt file"
   ]
  },
  {
   "cell_type": "code",
   "execution_count": 55,
   "metadata": {},
   "outputs": [
    {
     "data": {
      "text/html": [
       "<div>\n",
       "<style scoped>\n",
       "    .dataframe tbody tr th:only-of-type {\n",
       "        vertical-align: middle;\n",
       "    }\n",
       "\n",
       "    .dataframe tbody tr th {\n",
       "        vertical-align: top;\n",
       "    }\n",
       "\n",
       "    .dataframe thead th {\n",
       "        text-align: right;\n",
       "    }\n",
       "</style>\n",
       "<table border=\"1\" class=\"dataframe\">\n",
       "  <thead>\n",
       "    <tr style=\"text-align: right;\">\n",
       "      <th></th>\n",
       "      <th>filename</th>\n",
       "      <th>num_plate</th>\n",
       "    </tr>\n",
       "  </thead>\n",
       "  <tbody>\n",
       "    <tr>\n",
       "      <th>0</th>\n",
       "      <td>Schadenbild7605799005069298252.plate</td>\n",
       "      <td>ZH 534005</td>\n",
       "    </tr>\n",
       "    <tr>\n",
       "      <th>0</th>\n",
       "      <td>Schadenbild8274037992390839155.plate</td>\n",
       "      <td>BE 113312</td>\n",
       "    </tr>\n",
       "    <tr>\n",
       "      <th>0</th>\n",
       "      <td>Schadenbild6934044350634881206.plate</td>\n",
       "      <td>NaN</td>\n",
       "    </tr>\n",
       "    <tr>\n",
       "      <th>0</th>\n",
       "      <td>Schadenbild220789365068531090.plate</td>\n",
       "      <td>ZH264693</td>\n",
       "    </tr>\n",
       "    <tr>\n",
       "      <th>0</th>\n",
       "      <td>Schadenbild7340812035725409728.plate</td>\n",
       "      <td>TS 452584</td>\n",
       "    </tr>\n",
       "  </tbody>\n",
       "</table>\n",
       "</div>"
      ],
      "text/plain": [
       "                               filename  num_plate\n",
       "0  Schadenbild7605799005069298252.plate  ZH 534005\n",
       "0  Schadenbild8274037992390839155.plate  BE 113312\n",
       "0  Schadenbild6934044350634881206.plate        NaN\n",
       "0   Schadenbild220789365068531090.plate   ZH264693\n",
       "0  Schadenbild7340812035725409728.plate  TS 452584"
      ]
     },
     "execution_count": 55,
     "metadata": {},
     "output_type": "execute_result"
    }
   ],
   "source": [
    "df_gt = df_gt[['filename', 'num_plate']]\n",
    "df_gt.head()"
   ]
  },
  {
   "cell_type": "code",
   "execution_count": 56,
   "metadata": {},
   "outputs": [],
   "source": [
    "df_gt = df_gt.fillna(value=' ')\n",
    "stripped = df_gt['num_plate'].str.replace(' |u|p|r|n', ' ')"
   ]
  },
  {
   "cell_type": "code",
   "execution_count": 57,
   "metadata": {},
   "outputs": [
    {
     "data": {
      "text/html": [
       "<div>\n",
       "<style scoped>\n",
       "    .dataframe tbody tr th:only-of-type {\n",
       "        vertical-align: middle;\n",
       "    }\n",
       "\n",
       "    .dataframe tbody tr th {\n",
       "        vertical-align: top;\n",
       "    }\n",
       "\n",
       "    .dataframe thead th {\n",
       "        text-align: right;\n",
       "    }\n",
       "</style>\n",
       "<table border=\"1\" class=\"dataframe\">\n",
       "  <thead>\n",
       "    <tr style=\"text-align: right;\">\n",
       "      <th></th>\n",
       "      <th>filename</th>\n",
       "      <th>num_plate</th>\n",
       "    </tr>\n",
       "  </thead>\n",
       "  <tbody>\n",
       "    <tr>\n",
       "      <th>0</th>\n",
       "      <td>Schadenbild7605799005069298252.plate</td>\n",
       "      <td>ZH 534005</td>\n",
       "    </tr>\n",
       "    <tr>\n",
       "      <th>0</th>\n",
       "      <td>Schadenbild8274037992390839155.plate</td>\n",
       "      <td>BE 113312</td>\n",
       "    </tr>\n",
       "    <tr>\n",
       "      <th>0</th>\n",
       "      <td>Schadenbild6934044350634881206.plate</td>\n",
       "      <td></td>\n",
       "    </tr>\n",
       "    <tr>\n",
       "      <th>0</th>\n",
       "      <td>Schadenbild220789365068531090.plate</td>\n",
       "      <td>ZH264693</td>\n",
       "    </tr>\n",
       "    <tr>\n",
       "      <th>0</th>\n",
       "      <td>Schadenbild7340812035725409728.plate</td>\n",
       "      <td>TS 452584</td>\n",
       "    </tr>\n",
       "  </tbody>\n",
       "</table>\n",
       "</div>"
      ],
      "text/plain": [
       "                               filename  num_plate\n",
       "0  Schadenbild7605799005069298252.plate  ZH 534005\n",
       "0  Schadenbild8274037992390839155.plate  BE 113312\n",
       "0  Schadenbild6934044350634881206.plate           \n",
       "0   Schadenbild220789365068531090.plate   ZH264693\n",
       "0  Schadenbild7340812035725409728.plate  TS 452584"
      ]
     },
     "execution_count": 57,
     "metadata": {},
     "output_type": "execute_result"
    }
   ],
   "source": [
    "df_gt['num_plate'] = stripped\n",
    "df_gt.head()"
   ]
  },
  {
   "cell_type": "code",
   "execution_count": 58,
   "metadata": {},
   "outputs": [
    {
     "data": {
      "text/plain": [
       "0                                     ZH<empty/>534005\n",
       "0                                     BE<empty/>113312\n",
       "0                                             <empty/>\n",
       "0                                             ZH264693\n",
       "0                                     TS<empty/>452584\n",
       "0                                      FA<empty/>557BT\n",
       "0                                      ZH<empty/>62982\n",
       "0                                      BE<empty/>24470\n",
       "0                                     BE<empty/>468693\n",
       "0                                             <empty/>\n",
       "0                                      YS<empty/>83820\n",
       "0                                     SG<empty/>295974\n",
       "0                                                  NaN\n",
       "0                                     ZH<empty/>632974\n",
       "0                                     BL<empty/>127479\n",
       "0                                          ZH<empty/>3\n",
       "0                                      BF<empty/>146ML\n",
       "0                                       NW<empty/>3565\n",
       "0                                     SO<empty/>157379\n",
       "0                                      BL<empty/>63470\n",
       "0                                             <empty/>\n",
       "0                                             <empty/>\n",
       "0                                                  NaN\n",
       "0                                     FR<empty/>163434\n",
       "0    CD<empty/>BE<empty/>1057<empty/><empty/><empty...\n",
       "0                                             <empty/>\n",
       "0                                      DZ<empty/>738CV\n",
       "0     CD<empty/>BE1057<empty/><empty/><empty/><empty/>\n",
       "0                                      ZG<empty/>49943\n",
       "0                                             <empty/>\n",
       "                           ...                        \n",
       "0                                     ZH<empty/>498441\n",
       "0                                                  NaN\n",
       "0                                               08HVRV\n",
       "0                                     TG<empty/>250385\n",
       "0                                     AG<empty/>342747\n",
       "0                                     VD<empty/>551380\n",
       "0                                     LU<empty/>103538\n",
       "0                              <empty/>SG<empty/>51606\n",
       "0                                      TI<empty/>74623\n",
       "0                                              BL49667\n",
       "0                                         AG<empty/>41\n",
       "0                                             GE388208\n",
       "0                                      SO<empty/>60947\n",
       "0                                     LU<empty/>186802\n",
       "0                                      SH<empty/>58488\n",
       "0                                             BE513787\n",
       "0                                          VD<empty/>7\n",
       "0                                     SG<empty/>433228\n",
       "0                                     BE<empty/>273072\n",
       "0                                             <empty/>\n",
       "0                                      CY<empty/>983KT\n",
       "0                                      FR<empty/>46464\n",
       "0                                     VS<empty/>414260\n",
       "0                                     FR<empty/>280389\n",
       "0                                     AG<empty/>439924\n",
       "0                                     LU<empty/>191306\n",
       "0                                      AG<empty/>39013\n",
       "0                                                  NaN\n",
       "0                                        VD<empty/>139\n",
       "0                              SI<empty/>285<empty/>GV\n",
       "Name: num_plate, Length: 578, dtype: object"
      ]
     },
     "execution_count": 58,
     "metadata": {},
     "output_type": "execute_result"
    }
   ],
   "source": [
    "df_gt['num_plate'].str.replace(' ', '<empty/>')"
   ]
  },
  {
   "cell_type": "code",
   "execution_count": 34,
   "metadata": {},
   "outputs": [],
   "source": [
    "ground_truth = df_gt.to_csv('gt_file.tab', sep='\\t', header=None, index=False)"
   ]
  },
  {
   "cell_type": "code",
   "execution_count": null,
   "metadata": {},
   "outputs": [],
   "source": []
  }
 ],
 "metadata": {
  "kernelspec": {
   "display_name": "Python 3",
   "language": "python",
   "name": "python3"
  },
  "language_info": {
   "codemirror_mode": {
    "name": "ipython",
    "version": 3
   },
   "file_extension": ".py",
   "mimetype": "text/x-python",
   "name": "python",
   "nbconvert_exporter": "python",
   "pygments_lexer": "ipython3",
   "version": "3.6.7"
  }
 },
 "nbformat": 4,
 "nbformat_minor": 2
}
