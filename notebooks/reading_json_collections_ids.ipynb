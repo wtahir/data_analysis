{
 "cells": [
  {
   "cell_type": "code",
   "execution_count": 1,
   "id": "5ce30760",
   "metadata": {},
   "outputs": [],
   "source": [
    "import json"
   ]
  },
  {
   "cell_type": "code",
   "execution_count": 25,
   "id": "89f6822f",
   "metadata": {},
   "outputs": [
    {
     "data": {
      "text/plain": [
       "'risks_water_ide001'"
      ]
     },
     "execution_count": 25,
     "metadata": {},
     "output_type": "execute_result"
    }
   ],
   "source": [
    "\n",
    "with open('/home/waqas/LOB/risks_collections.json') as f:\n",
    "    data = json.load(f)\n"
   ]
  },
  {
   "cell_type": "code",
   "execution_count": 30,
   "id": "57a57eb3",
   "metadata": {},
   "outputs": [
    {
     "name": "stdout",
     "output_type": "stream",
     "text": [
      "0fd800ea-1952-4529-9272-2fd24e2e1a36   risks_storm_unq\n",
      "0bfe3a40-13ad-41f5-966e-76e874f20e66   risks_water_unq\n",
      "77296e81-a23d-45ad-99e3-d2b545332ceb   risks_water_ide001\n",
      "a44e8152-eb9f-4e51-8378-2db556212c1e   risks_theft_ide001\n",
      "721e94b0-b79c-4bf4-aa86-f5f52df6494e   risks_glass-breakage_ide001\n",
      "b8b543d1-d1e9-45ac-aad0-812c1361418f   risks_storm_ide001\n",
      "1b791409-8f52-4221-b749-459edf850658   risks_elementary_ide001\n",
      "eeb9b3f1-3974-4a65-baff-a1a7d6913b97   risks_bicycle-theft_ide001\n",
      "42bfa007-f82d-4d0d-ae6d-d998ea8fcb63   risks_fire_ide001\n",
      "61da24d5-0e90-46a6-9b77-86644913e17b   risks_car-accident_automatic_unq\n",
      "421d6d0c-4fda-4355-9233-4e9c6bbc75b8   risks_storm_automatic_unq\n",
      "e66f1965-1f93-448d-9060-598a8e12d613   risks_water_automatic_unq\n",
      "8b22ed75-3904-43fa-a2cb-0c7ff3c3be86   risk_glass-breakage_vie001\n",
      "6d3b78d8-fae7-4739-bfa4-abe028c0e9df   risk_glass-breakage_vie001_2\n",
      "852baed5-e20f-4c13-a626-d5830f3897f1    risk_glass-breakage_vie001_2_test\n",
      "50fd710e-95e4-4639-ad41-6eed52366e06   risks_fire_ide001_test\n",
      "b4d74b54-b5f1-4ca0-92d3-b54cd6a41655   risks_theft_ide001_test\n",
      "00c1dba9-46fe-4681-a114-57215b81b5c9   risks_testCollection\n",
      "49050463-d5fb-4a22-8f1f-6edc5c713eb1   risks_storm_ide001_test_validated\n",
      "914c9c4d-0260-4b5a-898c-b71225ebfd5b   risk_glass-breakage_vie001_2_test_2\n",
      "d331ba90-20dd-49b2-9d48-18134bda3f33   risks_vie_leitungswasser_batch1_train\n",
      "fd9514b3-6b1f-42a2-8737-ffb314225c31   risks_vie_storm_batch1\n",
      "0632d99d-3b53-440a-9bd3-0a84442a2e3d   risks_uniqa_leitungs_wasser_batch1\n",
      "b0bac8cd-8c05-4f75-8f4a-826f5528451b   risks_uniqa_storm_250\n",
      "eb60f742-a297-4c5c-aa75-1ba0317a8604   risks_vie_leitungswasser_batch1_test\n"
     ]
    }
   ],
   "source": [
    "for i in data['payload']['items']:\n",
    "    print(i['id'], ' ', i['name'])"
   ]
  },
  {
   "cell_type": "code",
   "execution_count": null,
   "id": "05824c76",
   "metadata": {},
   "outputs": [],
   "source": [
    "risks_water_ide001\n",
    "risks_theft_ide001\n",
    "risks_glass-breakage_ide001\n",
    "risks_storm_ide001\n",
    "risks_elementary_ide001\n",
    "risks_bicycle-theft_ide001\n",
    "risks_fire_ide001\n",
    "risks_car-accident_automatic_unq\n",
    "risk_glass-breakage_vie001\n",
    "risk_glass-breakage_vie001_2\n",
    "risks_vie_leitungswasser_batch1_train\n",
    "risks_uniqa_leitungs_wasser_batch1_train"
   ]
  }
 ],
 "metadata": {
  "kernelspec": {
   "display_name": "Python 3",
   "language": "python",
   "name": "python3"
  },
  "language_info": {
   "codemirror_mode": {
    "name": "ipython",
    "version": 3
   },
   "file_extension": ".py",
   "mimetype": "text/x-python",
   "name": "python",
   "nbconvert_exporter": "python",
   "pygments_lexer": "ipython3",
   "version": "3.8.10"
  }
 },
 "nbformat": 4,
 "nbformat_minor": 5
}
