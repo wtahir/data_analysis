{
 "cells": [
  {
   "cell_type": "code",
   "execution_count": 1,
   "id": "68984996",
   "metadata": {},
   "outputs": [],
   "source": [
    "import pandas as pd\n",
    "import json"
   ]
  },
  {
   "cell_type": "code",
   "execution_count": 20,
   "id": "4949fb05",
   "metadata": {},
   "outputs": [
    {
     "data": {
      "text/html": [
       "<div>\n",
       "<style scoped>\n",
       "    .dataframe tbody tr th:only-of-type {\n",
       "        vertical-align: middle;\n",
       "    }\n",
       "\n",
       "    .dataframe tbody tr th {\n",
       "        vertical-align: top;\n",
       "    }\n",
       "\n",
       "    .dataframe thead th {\n",
       "        text-align: right;\n",
       "    }\n",
       "</style>\n",
       "<table border=\"1\" class=\"dataframe\">\n",
       "  <thead>\n",
       "    <tr style=\"text-align: right;\">\n",
       "      <th></th>\n",
       "      <th>collection_uuid</th>\n",
       "      <th>file_uuid</th>\n",
       "      <th>Status</th>\n",
       "      <th>Filename</th>\n",
       "      <th>link</th>\n",
       "      <th>Aus welchem Rohrsystem ist das Wasser ausgetreten?</th>\n",
       "      <th>Wo befindet sich die Bruch- oder Froststelle</th>\n",
       "      <th>Bei Schäden am Bodenbelag: Art des Belages?</th>\n",
       "      <th>Bei Schäden am Bodenbelag: Wurde der Belag vom Versicherungsnehmer angeschafft?</th>\n",
       "      <th>Bei Schäden am Bodenbelag: Auf welchem Unterboden liegt er?</th>\n",
       "      <th>Wurden Installationen vom Versicherungsnehmer angeschafft?</th>\n",
       "      <th>Waren die wasserführenden Anlagen abgesperrt?</th>\n",
       "      <th>Schadenstelle</th>\n",
       "      <th>Gebäude unbenutzt?</th>\n",
       "      <th>Gebäude / Räume beheizt?</th>\n",
       "      <th>Kommentar</th>\n",
       "    </tr>\n",
       "  </thead>\n",
       "  <tbody>\n",
       "    <tr>\n",
       "      <th>0</th>\n",
       "      <td>fb72c3e5-7cfe-4c17-97ab-88feb4a4d2c5</td>\n",
       "      <td>fd868bd2-2ff9-4772-b380-6e8b3d9d624f</td>\n",
       "      <td>NaN</td>\n",
       "      <td>1807874615.pdf</td>\n",
       "      <td>https://platform-cck-2.internal.omnius.com/tra...</td>\n",
       "      <td>Heizung</td>\n",
       "      <td>innerhalb des Gebäudes</td>\n",
       "      <td>NaN</td>\n",
       "      <td>NaN</td>\n",
       "      <td>NaN</td>\n",
       "      <td>unbekannt</td>\n",
       "      <td>unbekannt</td>\n",
       "      <td>Gebäude</td>\n",
       "      <td>unbekannt</td>\n",
       "      <td>unbekannt</td>\n",
       "      <td>NaN</td>\n",
       "    </tr>\n",
       "    <tr>\n",
       "      <th>1</th>\n",
       "      <td>fb72c3e5-7cfe-4c17-97ab-88feb4a4d2c5</td>\n",
       "      <td>b6f08c32-d879-4c59-a82e-866cd2eedef3</td>\n",
       "      <td>NaN</td>\n",
       "      <td>1807951124.pdf</td>\n",
       "      <td>https://platform-cck-2.internal.omnius.com/tra...</td>\n",
       "      <td>Abwasser</td>\n",
       "      <td>innerhalb des Gebäudes</td>\n",
       "      <td>NaN</td>\n",
       "      <td>NaN</td>\n",
       "      <td>NaN</td>\n",
       "      <td>unbekannt</td>\n",
       "      <td>unbekannt</td>\n",
       "      <td>Gebäude</td>\n",
       "      <td>unbekannt</td>\n",
       "      <td>unbekannt</td>\n",
       "      <td>NaN</td>\n",
       "    </tr>\n",
       "    <tr>\n",
       "      <th>2</th>\n",
       "      <td>fb72c3e5-7cfe-4c17-97ab-88feb4a4d2c5</td>\n",
       "      <td>e89c71f3-3dca-4c86-9126-3f8b02388bd4</td>\n",
       "      <td>NaN</td>\n",
       "      <td>1807896212.pdf</td>\n",
       "      <td>https://platform-cck-2.internal.omnius.com/tra...</td>\n",
       "      <td>Abwasser</td>\n",
       "      <td>unbekannt</td>\n",
       "      <td>NaN</td>\n",
       "      <td>NaN</td>\n",
       "      <td>NaN</td>\n",
       "      <td>unbekannt</td>\n",
       "      <td>unbekannt</td>\n",
       "      <td>unbekannt</td>\n",
       "      <td>unbekannt</td>\n",
       "      <td>unbekannt</td>\n",
       "      <td>NaN</td>\n",
       "    </tr>\n",
       "    <tr>\n",
       "      <th>3</th>\n",
       "      <td>fb72c3e5-7cfe-4c17-97ab-88feb4a4d2c5</td>\n",
       "      <td>73dddad8-a8c9-4965-9be8-03f8725a5a23</td>\n",
       "      <td>NaN</td>\n",
       "      <td>1807898419.pdf</td>\n",
       "      <td>https://platform-cck-2.internal.omnius.com/tra...</td>\n",
       "      <td>Abwasser</td>\n",
       "      <td>innerhalb des Gebäudes</td>\n",
       "      <td>NaN</td>\n",
       "      <td>NaN</td>\n",
       "      <td>NaN</td>\n",
       "      <td>unbekannt</td>\n",
       "      <td>unbekannt</td>\n",
       "      <td>Gebäude</td>\n",
       "      <td>unbekannt</td>\n",
       "      <td>unbekannt</td>\n",
       "      <td>NaN</td>\n",
       "    </tr>\n",
       "    <tr>\n",
       "      <th>4</th>\n",
       "      <td>fb72c3e5-7cfe-4c17-97ab-88feb4a4d2c5</td>\n",
       "      <td>640e4a76-9399-482e-a7be-762104955f77</td>\n",
       "      <td>NaN</td>\n",
       "      <td>1807857775.pdf</td>\n",
       "      <td>https://platform-cck-2.internal.omnius.com/tra...</td>\n",
       "      <td>Abwasser</td>\n",
       "      <td>innerhalb des Gebäudes</td>\n",
       "      <td>NaN</td>\n",
       "      <td>NaN</td>\n",
       "      <td>NaN</td>\n",
       "      <td>unbekannt</td>\n",
       "      <td>unbekannt</td>\n",
       "      <td>Gebäude</td>\n",
       "      <td>unbekannt</td>\n",
       "      <td>unbekannt</td>\n",
       "      <td>NaN</td>\n",
       "    </tr>\n",
       "    <tr>\n",
       "      <th>...</th>\n",
       "      <td>...</td>\n",
       "      <td>...</td>\n",
       "      <td>...</td>\n",
       "      <td>...</td>\n",
       "      <td>...</td>\n",
       "      <td>...</td>\n",
       "      <td>...</td>\n",
       "      <td>...</td>\n",
       "      <td>...</td>\n",
       "      <td>...</td>\n",
       "      <td>...</td>\n",
       "      <td>...</td>\n",
       "      <td>...</td>\n",
       "      <td>...</td>\n",
       "      <td>...</td>\n",
       "      <td>...</td>\n",
       "    </tr>\n",
       "    <tr>\n",
       "      <th>244</th>\n",
       "      <td>fb72c3e5-7cfe-4c17-97ab-88feb4a4d2c5</td>\n",
       "      <td>d9eebe2c-55c1-4d01-8afb-afd675aea3f9</td>\n",
       "      <td>NaN</td>\n",
       "      <td>1808217787.pdf</td>\n",
       "      <td>https://platform-cck-2.internal.omnius.com/tra...</td>\n",
       "      <td>Boiler / Geräte defekt</td>\n",
       "      <td>innerhalb des Gebäudes</td>\n",
       "      <td>NaN</td>\n",
       "      <td>NaN</td>\n",
       "      <td>NaN</td>\n",
       "      <td>unbekannt</td>\n",
       "      <td>unbekannt</td>\n",
       "      <td>Gebäude</td>\n",
       "      <td>unbekannt</td>\n",
       "      <td>unbekannt</td>\n",
       "      <td>NaN</td>\n",
       "    </tr>\n",
       "    <tr>\n",
       "      <th>245</th>\n",
       "      <td>fb72c3e5-7cfe-4c17-97ab-88feb4a4d2c5</td>\n",
       "      <td>4cb1d197-99f9-45ad-8169-0a968e2b862a</td>\n",
       "      <td>NaN</td>\n",
       "      <td>1807892685.pdf</td>\n",
       "      <td>https://platform-cck-2.internal.omnius.com/tra...</td>\n",
       "      <td>Boiler / Geräte defekt</td>\n",
       "      <td>innerhalb des Gebäudes</td>\n",
       "      <td>NaN</td>\n",
       "      <td>NaN</td>\n",
       "      <td>NaN</td>\n",
       "      <td>unbekannt</td>\n",
       "      <td>unbekannt</td>\n",
       "      <td>Gebäude</td>\n",
       "      <td>unbekannt</td>\n",
       "      <td>unbekannt</td>\n",
       "      <td>NaN</td>\n",
       "    </tr>\n",
       "    <tr>\n",
       "      <th>246</th>\n",
       "      <td>fb72c3e5-7cfe-4c17-97ab-88feb4a4d2c5</td>\n",
       "      <td>01490d21-df46-42b9-b241-e60c25c5e24d</td>\n",
       "      <td>NaN</td>\n",
       "      <td>1807960037.pdf</td>\n",
       "      <td>https://platform-cck-2.internal.omnius.com/tra...</td>\n",
       "      <td>Abwasser</td>\n",
       "      <td>innerhalb des Gebäudes</td>\n",
       "      <td>NaN</td>\n",
       "      <td>NaN</td>\n",
       "      <td>NaN</td>\n",
       "      <td>unbekannt</td>\n",
       "      <td>unbekannt</td>\n",
       "      <td>Gebäude</td>\n",
       "      <td>unbekannt</td>\n",
       "      <td>unbekannt</td>\n",
       "      <td>NaN</td>\n",
       "    </tr>\n",
       "    <tr>\n",
       "      <th>247</th>\n",
       "      <td>fb72c3e5-7cfe-4c17-97ab-88feb4a4d2c5</td>\n",
       "      <td>f9d7a9f0-cfd9-45fd-b17b-52b63022c074</td>\n",
       "      <td>NaN</td>\n",
       "      <td>1808132359.pdf</td>\n",
       "      <td>https://platform-cck-2.internal.omnius.com/tra...</td>\n",
       "      <td>anderes</td>\n",
       "      <td>innerhalb des Gebäudes</td>\n",
       "      <td>NaN</td>\n",
       "      <td>NaN</td>\n",
       "      <td>NaN</td>\n",
       "      <td>unbekannt</td>\n",
       "      <td>unbekannt</td>\n",
       "      <td>Gebäude</td>\n",
       "      <td>unbekannt</td>\n",
       "      <td>unbekannt</td>\n",
       "      <td>NaN</td>\n",
       "    </tr>\n",
       "    <tr>\n",
       "      <th>248</th>\n",
       "      <td>fb72c3e5-7cfe-4c17-97ab-88feb4a4d2c5</td>\n",
       "      <td>450a63c7-2806-4de2-a301-68e2c120a282</td>\n",
       "      <td>NaN</td>\n",
       "      <td>1808101737.pdf</td>\n",
       "      <td>https://platform-cck-2.internal.omnius.com/tra...</td>\n",
       "      <td>unbekannt</td>\n",
       "      <td>innerhalb des Gebäudes</td>\n",
       "      <td>unbekannt</td>\n",
       "      <td>unbekannt</td>\n",
       "      <td>mehrere verschiedene</td>\n",
       "      <td>unbekannt</td>\n",
       "      <td>unbekannt</td>\n",
       "      <td>Gebäude</td>\n",
       "      <td>unbekannt</td>\n",
       "      <td>unbekannt</td>\n",
       "      <td>NaN</td>\n",
       "    </tr>\n",
       "  </tbody>\n",
       "</table>\n",
       "<p>249 rows × 16 columns</p>\n",
       "</div>"
      ],
      "text/plain": [
       "                          collection_uuid  \\\n",
       "0    fb72c3e5-7cfe-4c17-97ab-88feb4a4d2c5   \n",
       "1    fb72c3e5-7cfe-4c17-97ab-88feb4a4d2c5   \n",
       "2    fb72c3e5-7cfe-4c17-97ab-88feb4a4d2c5   \n",
       "3    fb72c3e5-7cfe-4c17-97ab-88feb4a4d2c5   \n",
       "4    fb72c3e5-7cfe-4c17-97ab-88feb4a4d2c5   \n",
       "..                                    ...   \n",
       "244  fb72c3e5-7cfe-4c17-97ab-88feb4a4d2c5   \n",
       "245  fb72c3e5-7cfe-4c17-97ab-88feb4a4d2c5   \n",
       "246  fb72c3e5-7cfe-4c17-97ab-88feb4a4d2c5   \n",
       "247  fb72c3e5-7cfe-4c17-97ab-88feb4a4d2c5   \n",
       "248  fb72c3e5-7cfe-4c17-97ab-88feb4a4d2c5   \n",
       "\n",
       "                                file_uuid  Status        Filename  \\\n",
       "0    fd868bd2-2ff9-4772-b380-6e8b3d9d624f     NaN  1807874615.pdf   \n",
       "1    b6f08c32-d879-4c59-a82e-866cd2eedef3     NaN  1807951124.pdf   \n",
       "2    e89c71f3-3dca-4c86-9126-3f8b02388bd4     NaN  1807896212.pdf   \n",
       "3    73dddad8-a8c9-4965-9be8-03f8725a5a23     NaN  1807898419.pdf   \n",
       "4    640e4a76-9399-482e-a7be-762104955f77     NaN  1807857775.pdf   \n",
       "..                                    ...     ...             ...   \n",
       "244  d9eebe2c-55c1-4d01-8afb-afd675aea3f9     NaN  1808217787.pdf   \n",
       "245  4cb1d197-99f9-45ad-8169-0a968e2b862a     NaN  1807892685.pdf   \n",
       "246  01490d21-df46-42b9-b241-e60c25c5e24d     NaN  1807960037.pdf   \n",
       "247  f9d7a9f0-cfd9-45fd-b17b-52b63022c074     NaN  1808132359.pdf   \n",
       "248  450a63c7-2806-4de2-a301-68e2c120a282     NaN  1808101737.pdf   \n",
       "\n",
       "                                                  link  \\\n",
       "0    https://platform-cck-2.internal.omnius.com/tra...   \n",
       "1    https://platform-cck-2.internal.omnius.com/tra...   \n",
       "2    https://platform-cck-2.internal.omnius.com/tra...   \n",
       "3    https://platform-cck-2.internal.omnius.com/tra...   \n",
       "4    https://platform-cck-2.internal.omnius.com/tra...   \n",
       "..                                                 ...   \n",
       "244  https://platform-cck-2.internal.omnius.com/tra...   \n",
       "245  https://platform-cck-2.internal.omnius.com/tra...   \n",
       "246  https://platform-cck-2.internal.omnius.com/tra...   \n",
       "247  https://platform-cck-2.internal.omnius.com/tra...   \n",
       "248  https://platform-cck-2.internal.omnius.com/tra...   \n",
       "\n",
       "    Aus welchem Rohrsystem ist das Wasser ausgetreten?  \\\n",
       "0                                              Heizung   \n",
       "1                                             Abwasser   \n",
       "2                                             Abwasser   \n",
       "3                                             Abwasser   \n",
       "4                                             Abwasser   \n",
       "..                                                 ...   \n",
       "244                             Boiler / Geräte defekt   \n",
       "245                             Boiler / Geräte defekt   \n",
       "246                                           Abwasser   \n",
       "247                                            anderes   \n",
       "248                                          unbekannt   \n",
       "\n",
       "    Wo befindet sich die Bruch- oder Froststelle  \\\n",
       "0                         innerhalb des Gebäudes   \n",
       "1                         innerhalb des Gebäudes   \n",
       "2                                      unbekannt   \n",
       "3                         innerhalb des Gebäudes   \n",
       "4                         innerhalb des Gebäudes   \n",
       "..                                           ...   \n",
       "244                       innerhalb des Gebäudes   \n",
       "245                       innerhalb des Gebäudes   \n",
       "246                       innerhalb des Gebäudes   \n",
       "247                       innerhalb des Gebäudes   \n",
       "248                       innerhalb des Gebäudes   \n",
       "\n",
       "    Bei Schäden am Bodenbelag: Art des Belages?  \\\n",
       "0                                           NaN   \n",
       "1                                           NaN   \n",
       "2                                           NaN   \n",
       "3                                           NaN   \n",
       "4                                           NaN   \n",
       "..                                          ...   \n",
       "244                                         NaN   \n",
       "245                                         NaN   \n",
       "246                                         NaN   \n",
       "247                                         NaN   \n",
       "248                                   unbekannt   \n",
       "\n",
       "    Bei Schäden am Bodenbelag: Wurde der Belag vom Versicherungsnehmer angeschafft?  \\\n",
       "0                                                  NaN                                \n",
       "1                                                  NaN                                \n",
       "2                                                  NaN                                \n",
       "3                                                  NaN                                \n",
       "4                                                  NaN                                \n",
       "..                                                 ...                                \n",
       "244                                                NaN                                \n",
       "245                                                NaN                                \n",
       "246                                                NaN                                \n",
       "247                                                NaN                                \n",
       "248                                          unbekannt                                \n",
       "\n",
       "    Bei Schäden am Bodenbelag: Auf welchem Unterboden liegt er?  \\\n",
       "0                                                  NaN            \n",
       "1                                                  NaN            \n",
       "2                                                  NaN            \n",
       "3                                                  NaN            \n",
       "4                                                  NaN            \n",
       "..                                                 ...            \n",
       "244                                                NaN            \n",
       "245                                                NaN            \n",
       "246                                                NaN            \n",
       "247                                                NaN            \n",
       "248                               mehrere verschiedene            \n",
       "\n",
       "    Wurden Installationen vom Versicherungsnehmer angeschafft?  \\\n",
       "0                                            unbekannt           \n",
       "1                                            unbekannt           \n",
       "2                                            unbekannt           \n",
       "3                                            unbekannt           \n",
       "4                                            unbekannt           \n",
       "..                                                 ...           \n",
       "244                                          unbekannt           \n",
       "245                                          unbekannt           \n",
       "246                                          unbekannt           \n",
       "247                                          unbekannt           \n",
       "248                                          unbekannt           \n",
       "\n",
       "    Waren die wasserführenden Anlagen abgesperrt? Schadenstelle  \\\n",
       "0                                       unbekannt       Gebäude   \n",
       "1                                       unbekannt       Gebäude   \n",
       "2                                       unbekannt     unbekannt   \n",
       "3                                       unbekannt       Gebäude   \n",
       "4                                       unbekannt       Gebäude   \n",
       "..                                            ...           ...   \n",
       "244                                     unbekannt       Gebäude   \n",
       "245                                     unbekannt       Gebäude   \n",
       "246                                     unbekannt       Gebäude   \n",
       "247                                     unbekannt       Gebäude   \n",
       "248                                     unbekannt       Gebäude   \n",
       "\n",
       "    Gebäude unbenutzt? Gebäude / Räume beheizt? Kommentar  \n",
       "0            unbekannt                unbekannt       NaN  \n",
       "1            unbekannt                unbekannt       NaN  \n",
       "2            unbekannt                unbekannt       NaN  \n",
       "3            unbekannt                unbekannt       NaN  \n",
       "4            unbekannt                unbekannt       NaN  \n",
       "..                 ...                      ...       ...  \n",
       "244          unbekannt                unbekannt       NaN  \n",
       "245          unbekannt                unbekannt       NaN  \n",
       "246          unbekannt                unbekannt       NaN  \n",
       "247          unbekannt                unbekannt       NaN  \n",
       "248          unbekannt                unbekannt       NaN  \n",
       "\n",
       "[249 rows x 16 columns]"
      ]
     },
     "execution_count": 20,
     "metadata": {},
     "output_type": "execute_result"
    }
   ],
   "source": [
    "# df = pd.read_csv('/home/waqas/Downloads/train_df_eval.tsv', sep='\\t')\n",
    "# df1 = pd.read_csv('/home/waqas/Downloads/val_df_eval.tsv', sep='\\t')\n",
    "\n",
    "df = pd.read_csv('/home/waqas/Downloads/coverage_questions_water_VIE.csv', encoding='utf8')\n",
    "# df = pd.ExcelFile('/home/waqas/Downloads/coverage_questions_water.xlsx')\n",
    "\n",
    "# df_con = df.merge(df1, on='uuid', how='outer')\n",
    "df"
   ]
  },
  {
   "cell_type": "code",
   "execution_count": 21,
   "id": "478a1bc8",
   "metadata": {},
   "outputs": [
    {
     "data": {
      "text/plain": [
       "Abwasser                     130\n",
       "unbekannt                     79\n",
       "anderes                       13\n",
       "Heizung                        8\n",
       "Kaltwasser                     4\n",
       "kein Rohrsystem                2\n",
       "Boiler / Geräte defekt         2\n",
       "Undichte Fuge                  1\n",
       "Schwimmbecken in Gebäuden      1\n",
       "Name: Aus welchem Rohrsystem ist das Wasser ausgetreten?, dtype: int64"
      ]
     },
     "execution_count": 21,
     "metadata": {},
     "output_type": "execute_result"
    }
   ],
   "source": [
    "df['Aus welchem Rohrsystem ist das Wasser ausgetreten?'].value_counts()"
   ]
  },
  {
   "cell_type": "code",
   "execution_count": 22,
   "id": "aa1008d7",
   "metadata": {},
   "outputs": [
    {
     "data": {
      "text/plain": [
       "innerhalb des Gebäudes       214\n",
       "unbekannt                     22\n",
       "außerhalb des Gebäudes         2\n",
       "innerhalb des Grundstücks      2\n",
       "Name: Wo befindet sich die Bruch- oder Froststelle, dtype: int64"
      ]
     },
     "execution_count": 22,
     "metadata": {},
     "output_type": "execute_result"
    }
   ],
   "source": [
    "df['Wo befindet sich die Bruch- oder Froststelle'].value_counts()"
   ]
  },
  {
   "cell_type": "code",
   "execution_count": 23,
   "id": "f1ae1f56",
   "metadata": {},
   "outputs": [
    {
     "data": {
      "text/plain": [
       "unbekannt    16\n",
       "Name: Bei Schäden am Bodenbelag: Art des Belages?, dtype: int64"
      ]
     },
     "execution_count": 23,
     "metadata": {},
     "output_type": "execute_result"
    }
   ],
   "source": [
    "df['Bei Schäden am Bodenbelag: Art des Belages?'].value_counts()"
   ]
  },
  {
   "cell_type": "code",
   "execution_count": 24,
   "id": "d046c5b9",
   "metadata": {},
   "outputs": [
    {
     "data": {
      "text/plain": [
       "unbekannt    16\n",
       "Name: Bei Schäden am Bodenbelag: Wurde der Belag vom Versicherungsnehmer angeschafft?, dtype: int64"
      ]
     },
     "execution_count": 24,
     "metadata": {},
     "output_type": "execute_result"
    }
   ],
   "source": [
    "df['Bei Schäden am Bodenbelag: Wurde der Belag vom Versicherungsnehmer angeschafft?'].value_counts()"
   ]
  },
  {
   "cell_type": "code",
   "execution_count": 25,
   "id": "c4577c20",
   "metadata": {},
   "outputs": [
    {
     "data": {
      "text/plain": [
       "mehrere verschiedene    5\n",
       "unbekannt               4\n",
       "Parkett                 4\n",
       "Teppich                 1\n",
       "Laminat                 1\n",
       "Estrich                 1\n",
       "Name: Bei Schäden am Bodenbelag: Auf welchem Unterboden liegt er?, dtype: int64"
      ]
     },
     "execution_count": 25,
     "metadata": {},
     "output_type": "execute_result"
    }
   ],
   "source": [
    "df['Bei Schäden am Bodenbelag: Auf welchem Unterboden liegt er?'].value_counts()"
   ]
  },
  {
   "cell_type": "code",
   "execution_count": 26,
   "id": "5e62a850",
   "metadata": {},
   "outputs": [
    {
     "data": {
      "text/plain": [
       "unbekannt    240\n",
       "Name: Wurden Installationen vom Versicherungsnehmer angeschafft?, dtype: int64"
      ]
     },
     "execution_count": 26,
     "metadata": {},
     "output_type": "execute_result"
    }
   ],
   "source": [
    "df['Wurden Installationen vom Versicherungsnehmer angeschafft?'].value_counts()"
   ]
  },
  {
   "cell_type": "code",
   "execution_count": 27,
   "id": "a4fd2ee5",
   "metadata": {},
   "outputs": [
    {
     "data": {
      "text/plain": [
       "unbekannt    240\n",
       "Name: Waren die wasserführenden Anlagen abgesperrt?, dtype: int64"
      ]
     },
     "execution_count": 27,
     "metadata": {},
     "output_type": "execute_result"
    }
   ],
   "source": [
    "df['Waren die wasserführenden Anlagen abgesperrt?'].value_counts()"
   ]
  },
  {
   "cell_type": "code",
   "execution_count": 28,
   "id": "102c5bbd",
   "metadata": {},
   "outputs": [
    {
     "data": {
      "text/plain": [
       "Gebäude       223\n",
       "unbekannt      15\n",
       "Grundstück      2\n",
       "Name: Schadenstelle, dtype: int64"
      ]
     },
     "execution_count": 28,
     "metadata": {},
     "output_type": "execute_result"
    }
   ],
   "source": [
    "df['Schadenstelle'].value_counts()"
   ]
  },
  {
   "cell_type": "code",
   "execution_count": 29,
   "id": "ec7f3ef3",
   "metadata": {},
   "outputs": [
    {
     "data": {
      "text/plain": [
       "unbekannt    240\n",
       "Name: Gebäude unbenutzt?, dtype: int64"
      ]
     },
     "execution_count": 29,
     "metadata": {},
     "output_type": "execute_result"
    }
   ],
   "source": [
    "df['Gebäude unbenutzt?'].value_counts()"
   ]
  },
  {
   "cell_type": "code",
   "execution_count": 30,
   "id": "9fea8b01",
   "metadata": {},
   "outputs": [
    {
     "data": {
      "text/plain": [
       "unbekannt    240\n",
       "Name: Gebäude / Räume beheizt?, dtype: int64"
      ]
     },
     "execution_count": 30,
     "metadata": {},
     "output_type": "execute_result"
    }
   ],
   "source": [
    "df['Gebäude / Räume beheizt?'].value_counts()"
   ]
  },
  {
   "cell_type": "code",
   "execution_count": 32,
   "id": "f9be95fd",
   "metadata": {},
   "outputs": [
    {
     "ename": "ModuleNotFoundError",
     "evalue": "No module named 'cap'",
     "output_type": "error",
     "traceback": [
      "\u001b[0;31m---------------------------------------------------------------------------\u001b[0m",
      "\u001b[0;31mModuleNotFoundError\u001b[0m                       Traceback (most recent call last)",
      "\u001b[0;32m/tmp/ipykernel_14465/1486944639.py\u001b[0m in \u001b[0;36m<module>\u001b[0;34m\u001b[0m\n\u001b[0;32m----> 1\u001b[0;31m \u001b[0;32mimport\u001b[0m \u001b[0mcap\u001b[0m\u001b[0;34m\u001b[0m\u001b[0;34m\u001b[0m\u001b[0m\n\u001b[0m\u001b[1;32m      2\u001b[0m \u001b[0mget_ipython\u001b[0m\u001b[0;34m(\u001b[0m\u001b[0;34m)\u001b[0m\u001b[0;34m.\u001b[0m\u001b[0mrun_line_magic\u001b[0m\u001b[0;34m(\u001b[0m\u001b[0;34m'%capture'\u001b[0m\u001b[0;34m,\u001b[0m \u001b[0;34m'cap --no-stderr'\u001b[0m\u001b[0;34m)\u001b[0m\u001b[0;34m\u001b[0m\u001b[0;34m\u001b[0m\u001b[0m\n\u001b[1;32m      3\u001b[0m \u001b[0;32mwith\u001b[0m \u001b[0mopen\u001b[0m\u001b[0;34m(\u001b[0m\u001b[0;34m'output.txt'\u001b[0m\u001b[0;34m,\u001b[0m \u001b[0;34m'w'\u001b[0m\u001b[0;34m)\u001b[0m \u001b[0;32mas\u001b[0m \u001b[0mf\u001b[0m\u001b[0;34m:\u001b[0m\u001b[0;34m\u001b[0m\u001b[0;34m\u001b[0m\u001b[0m\n\u001b[1;32m      4\u001b[0m     \u001b[0mf\u001b[0m\u001b[0;34m.\u001b[0m\u001b[0mwrite\u001b[0m\u001b[0;34m(\u001b[0m\u001b[0mcap\u001b[0m\u001b[0;34m.\u001b[0m\u001b[0mstdout\u001b[0m\u001b[0;34m)\u001b[0m\u001b[0;34m\u001b[0m\u001b[0;34m\u001b[0m\u001b[0m\n",
      "\u001b[0;31mModuleNotFoundError\u001b[0m: No module named 'cap'"
     ]
    }
   ],
   "source": [
    "\n",
    "%%capture cap --no-stderr\n",
    "with open('output.txt', 'w') as f:\n",
    "    f.write(cap.stdout)"
   ]
  },
  {
   "cell_type": "code",
   "execution_count": 11,
   "id": "8ea56c94",
   "metadata": {},
   "outputs": [],
   "source": [
    "# with open('/home/waqas/repos/platform-client/platform_client/failed.json') as f:\n",
    "#     data = json.load(f)"
   ]
  },
  {
   "cell_type": "code",
   "execution_count": 10,
   "id": "13c7dfcd",
   "metadata": {},
   "outputs": [],
   "source": [
    "# li = []\n",
    "# for i in data['items']:\n",
    "#     if i['annotation_status'] == 'NOT_ANNOTATED':\n",
    "#         print(i['file_name'])\n",
    "#         li.append(i['file_name'])"
   ]
  },
  {
   "cell_type": "code",
   "execution_count": null,
   "id": "2c8f0d16",
   "metadata": {},
   "outputs": [],
   "source": []
  }
 ],
 "metadata": {
  "kernelspec": {
   "display_name": "Python 3.8.10 64-bit ('venv': venv)",
   "language": "python",
   "name": "python3810jvsc74a57bd051fccd841a4e8c600e54a81aeceb012198bea5019e15585581a79e159edddade"
  },
  "language_info": {
   "codemirror_mode": {
    "name": "ipython",
    "version": 3
   },
   "file_extension": ".py",
   "mimetype": "text/x-python",
   "name": "python",
   "nbconvert_exporter": "python",
   "pygments_lexer": "ipython3",
   "version": "3.8.10"
  }
 },
 "nbformat": 4,
 "nbformat_minor": 5
}
