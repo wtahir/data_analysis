{
 "cells": [
  {
   "cell_type": "code",
   "execution_count": 58,
   "metadata": {},
   "outputs": [],
   "source": [
    "import argparse\n",
    "import glob\n",
    "import os\n",
    "import pandas as pd\n",
    "from pagexml import pagexml\n",
    "import sys"
   ]
  },
  {
   "cell_type": "code",
   "execution_count": 56,
   "metadata": {},
   "outputs": [],
   "source": [
    "for gt_xml_path in sorted(glob.iglob(os.path.join('/home/waqas/give_uuids/avrios/*', 'merged.xml'))):\n",
    "    gt_xml = pagexml.PageXML()\n",
    "    gt_xml.loadXml(gt_xml_path)\n",
    "    # Get uuid from gt_xml_path\n",
    "    uuid = os.path.basename(os.path.dirname(gt_xml_path))\n",
    "    pcgts = gt_xml.selectNth('//_:PcGts', 0)\n",
    "    gt_xml.setProperty(pcgts, 'uuid', uuid)\n",
    "    gt_xml.write(gt_xml_path)\n"
   ]
  },
  {
   "cell_type": "code",
   "execution_count": 60,
   "metadata": {},
   "outputs": [
    {
     "data": {
      "text/plain": [
       "'/usr/bin/python3'"
      ]
     },
     "execution_count": 60,
     "metadata": {},
     "output_type": "execute_result"
    }
   ],
   "source": [
    "sys.executable"
   ]
  },
  {
   "cell_type": "code",
   "execution_count": null,
   "metadata": {},
   "outputs": [],
   "source": []
  }
 ],
 "metadata": {
  "kernelspec": {
   "display_name": "Python 3",
   "language": "python",
   "name": "python3"
  },
  "language_info": {
   "codemirror_mode": {
    "name": "ipython",
    "version": 3
   },
   "file_extension": ".py",
   "mimetype": "text/x-python",
   "name": "python",
   "nbconvert_exporter": "python",
   "pygments_lexer": "ipython3",
   "version": "3.6.8"
  }
 },
 "nbformat": 4,
 "nbformat_minor": 2
}
