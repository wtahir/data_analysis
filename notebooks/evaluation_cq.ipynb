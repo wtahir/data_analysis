{
 "cells": [
  {
   "cell_type": "code",
   "execution_count": 11,
   "id": "464e00eb",
   "metadata": {},
   "outputs": [],
   "source": [
    "import pagexml\n",
    "import glob\n",
    "import csv\n",
    "import json"
   ]
  },
  {
   "cell_type": "code",
   "execution_count": 13,
   "id": "10f5ac6e",
   "metadata": {},
   "outputs": [],
   "source": [
    "files = glob.glob('/home/waqas/LOB/cq_glass_test_pr_xmls/*.xml')"
   ]
  },
  {
   "cell_type": "code",
   "execution_count": 38,
   "id": "91b6e68b",
   "metadata": {},
   "outputs": [
    {
     "data": {
      "text/plain": [
       "[{'id': 'f663a689-3e35-484f-8d7c-f9df0d87178f',\n",
       "  'question': 'size_glass',\n",
       "  'required': False,\n",
       "  'answers': [{'id': '1f3e2bb4-918d-427c-bc87-3b5026cbb8c3', 'answer': '<= 5'},\n",
       "   {'id': '49e0e14d-1703-4906-869a-ed5bcf31acd0', 'answer': '> 12'},\n",
       "   {'id': '57bdeee2-b3ec-46d8-90c6-0d3ed7338337',\n",
       "    'answer': 'not_answerable'}]},\n",
       " {'id': '4d813bf9-9c81-410a-b1c0-fe93d1e2a7eb',\n",
       "  'question': 'type_of_damage',\n",
       "  'required': False,\n",
       "  'answers': [{'id': '882912a2-79af-4850-a082-98621d8669ee',\n",
       "    'answer': 'not_answerable'},\n",
       "   {'id': '7919b58c-e5ab-4d54-aa23-2c9b6afc9c47', 'answer': 'broken'},\n",
       "   {'id': '54e0d103-bb2e-4fa2-8297-d8ad90f7140b', 'answer': 'scratched'}]},\n",
       " {'id': 'c2d1ea76-1de1-46a0-b287-bd6d11785f2d',\n",
       "  'question': 'incident_circumstances?',\n",
       "  'required': False,\n",
       "  'answers': [{'id': '4b0c321a-440a-41e5-8e82-2ed4da47d1e2',\n",
       "    'answer': 'not_answerable'},\n",
       "   {'id': '95b80679-bf79-455b-a0e6-1d340141f871', 'answer': 'other'}]},\n",
       " {'id': '3a080e92-c840-4e53-8935-d8db0b5fafe8',\n",
       "  'question': 'damage_site',\n",
       "  'required': False,\n",
       "  'answers': [{'id': '3e571f2d-6051-4a99-bd18-343662601a20',\n",
       "    'answer': 'outside_the_property'},\n",
       "   {'id': 'ab7599a5-f14b-4b81-9df5-2fd960538c7b', 'answer': 'not_answerable'},\n",
       "   {'id': '919bf13d-4745-4744-8905-f0690b16fa7c', 'answer': 'building'},\n",
       "   {'id': '9dbdfed4-1f0d-4034-9fbd-c44dc71297c5',\n",
       "    'answer': 'damage_site_other'}]},\n",
       " {'id': 'fa14a344-7f51-4e5c-b526-a81e589da78a',\n",
       "  'question': 'damaged_window_was_already_installed',\n",
       "  'required': False,\n",
       "  'answers': [{'id': '50773295-8599-405a-85f3-fdeb61f9e6dd',\n",
       "    'answer': 'not_answerable'},\n",
       "   {'id': 'fb2c78b1-4d98-4f75-8cca-4c9329e7e9c3', 'answer': 'ja'},\n",
       "   {'id': 'b624c95e-03be-418b-bc8d-a036bc0c5a02', 'answer': 'nein'},\n",
       "   {'id': '6ec4206d-fb94-4763-b0e6-a9f20ee6e53a', 'answer': 'not_relevant'}]}]"
      ]
     },
     "execution_count": 38,
     "metadata": {},
     "output_type": "execute_result"
    }
   ],
   "source": [
    "with open('glass.json') as f:\n",
    "    data = json.load(f)\n",
    "data\n",
    "# # data[0]['question']\n",
    "# data[0]['answers'][0]['answer']\n",
    "# data[0]['answers'][0]"
   ]
  },
  {
   "cell_type": "code",
   "execution_count": 35,
   "id": "d98a75ad",
   "metadata": {},
   "outputs": [],
   "source": [
    "def create_tab_files(files_path, tabfile_name, question_uuid, json_file, gt_or_pr):\n",
    "    li_files = []\n",
    "    li_class = []\n",
    "    li_conf = []\n",
    "\n",
    "    for i in json_file:   \n",
    "        for j in i['answers']:\n",
    "            for xml in files_path:\n",
    "                pxml = pagexml.PageXML(xml)\n",
    "                file_name = pxml.getValue('/_:PcGts/_:Property[@key=\"uuid\"]/@value')\n",
    "                node = pxml.selectNth('//_:PcGts', 0)\n",
    "                conf = pxml.getValue(f'/_:PcGts/_:Property[@key=\"{question_uuid}\"]/@conf')\n",
    "                class_ = pxml.getValue(f'/_:PcGts/_:Property[@key=\"{question_uuid}\"]/@value')\n",
    "\n",
    "                if class_[7:] == j['id']:\n",
    "                    class_ = j['answer']\n",
    "\n",
    "                    li_files.append(file_name + '.pdf')\n",
    "                    li_class.append(class_)\n",
    "                    li_conf.append(conf)\n",
    "                    \n",
    "            if gt_or_pr == 'pr':\n",
    "                with open('pr_' + tabfile_name + '.tab', 'w') as f:\n",
    "                    writer = csv.writer(f, delimiter='\\t')\n",
    "                    writer.writerows(zip(li_files, li_conf, li_class))\n",
    "            \n",
    "            if gt_or_pr == 'gt':\n",
    "                with open('gt_' + tabfile_name + '.tab', 'w') as f:\n",
    "                    writer = csv.writer(f, delimiter='\\t')\n",
    "                    writer.writerows(zip(li_files, li_class))\n",
    "                \n",
    "\n",
    "#             li_files = list(set(li_files))\n"
   ]
  },
  {
   "cell_type": "code",
   "execution_count": 36,
   "id": "ff6dfd3b",
   "metadata": {},
   "outputs": [],
   "source": [
    "create_tab_files(files_path=files, tabfile_name= 'damaged_window_was_already_installed', question_uuid= 'question_fa14a344-7f51-4e5c-b526-a81e589da78a',\n",
    "                json_file = data, gt_or_pr = 'pr')"
   ]
  },
  {
   "cell_type": "code",
   "execution_count": 37,
   "id": "c94e41ed",
   "metadata": {},
   "outputs": [],
   "source": [
    "! mv pr_damaged_window_was_already_installed.tab cq_ml_reports/damaged_window_was_already_installed/"
   ]
  },
  {
   "cell_type": "code",
   "execution_count": 167,
   "id": "3dca72dd",
   "metadata": {},
   "outputs": [],
   "source": [
    "\n",
    "# def create_tab_files(files_path, tabfile_name, question_uuid, json_file):\n",
    "#     with open(json_file) as f:\n",
    "#         data = json.load(f)\n",
    "#     li_files = []\n",
    "#     li_class = []\n",
    "#     li_conf = []\n",
    "#     for xml in files_path:\n",
    "#         pxml = pagexml.PageXML(xml)\n",
    "#         file_name = pxml.getValue('/_:PcGts/_:Property[@key=\"uuid\"]/@value')\n",
    "#         node = pxml.selectNth('//_:PcGts', 0)\n",
    "#         conf = pxml.getValue(f'/_:PcGts/_:Property[@key=\"{question_uuid}\"]/@conf')\n",
    "#         class_ = pxml.getValue(f'/_:PcGts/_:Property[@key=\"{question_uuid}\"]/@value')\n",
    "        \n",
    "#         if class_[7:] ==  data[0]['answers'][0]['id']:\n",
    "#             class_ = data[0]['answers'][0]['answer']\n",
    "    \n",
    "#         if class_[7:] ==  data[0]['answers'][1]['id']:\n",
    "#             class_ = data[0]['answers'][1]['answer']\n",
    "        \n",
    "#         if class_[7:] ==  data[0]['answers'][2]['id']:\n",
    "#             class_ = data[0]['answers'][2]['answer']\n",
    "        \n",
    "        \n",
    "        \n",
    "#         if class_[7:] ==  data[1]['answers'][0]['id']:\n",
    "#             class_ = data[1]['answers'][0]['answer']\n",
    "    \n",
    "#         if class_[7:] ==  data[1]['answers'][1]['id']:\n",
    "#             class_ = data[1]['answers'][1]['answer']\n",
    "        \n",
    "#         if class_[7:] ==  data[1]['answers'][2]['id']:\n",
    "#             class_ = data[1]['answers'][2]['answer']\n",
    "            \n",
    "        \n",
    "#         if class_[7:] ==  data[2]['answers'][0]['id']:\n",
    "#             class_ = data[2]['answers'][0]['answer']\n",
    "    \n",
    "#         if class_[7:] ==  data[2]['answers'][1]['id']:\n",
    "#             class_ = data[2]['answers'][1]['answer']\n",
    "       \n",
    "#         li_files.append(file_name + '.pdf')\n",
    "#         li_class.append(class_)\n",
    "#         li_conf.append(conf)\n",
    "#     with open(tabfile_name + '.tab', 'w') as f:\n",
    "#         writer = csv.writer(f, delimiter='\\t')\n",
    "#         writer.writerows(zip(li_files, li_conf, li_class))"
   ]
  },
  {
   "cell_type": "code",
   "execution_count": 168,
   "id": "79f51631",
   "metadata": {},
   "outputs": [],
   "source": [
    "# create_tab_files(files, tabfile_name = 'damaged_window_was_already_installed', question_uuid = 'question_fa14a344-7f51-4e5c-b526-a81e589da78a',\n",
    "#                 json_file = 'glass.json')"
   ]
  },
  {
   "cell_type": "code",
   "execution_count": 165,
   "id": "1e1f57bf",
   "metadata": {},
   "outputs": [
    {
     "name": "stdout",
     "output_type": "stream",
     "text": [
      "{'id': '1f3e2bb4-918d-427c-bc87-3b5026cbb8c3', 'answer': '<= 5'}\n",
      "{'id': '49e0e14d-1703-4906-869a-ed5bcf31acd0', 'answer': '> 12'}\n",
      "{'id': '57bdeee2-b3ec-46d8-90c6-0d3ed7338337', 'answer': 'not_answerable'}\n",
      "{'id': '882912a2-79af-4850-a082-98621d8669ee', 'answer': 'not_answerable'}\n",
      "{'id': '7919b58c-e5ab-4d54-aa23-2c9b6afc9c47', 'answer': 'broken'}\n",
      "{'id': '54e0d103-bb2e-4fa2-8297-d8ad90f7140b', 'answer': 'scratched'}\n",
      "{'id': '4b0c321a-440a-41e5-8e82-2ed4da47d1e2', 'answer': 'not_answerable'}\n",
      "{'id': '95b80679-bf79-455b-a0e6-1d340141f871', 'answer': 'other'}\n",
      "{'id': '3e571f2d-6051-4a99-bd18-343662601a20', 'answer': 'outside_the_property'}\n",
      "{'id': 'ab7599a5-f14b-4b81-9df5-2fd960538c7b', 'answer': 'not_answerable'}\n",
      "{'id': '919bf13d-4745-4744-8905-f0690b16fa7c', 'answer': 'building'}\n",
      "{'id': '9dbdfed4-1f0d-4034-9fbd-c44dc71297c5', 'answer': 'damage_site_other'}\n",
      "{'id': '50773295-8599-405a-85f3-fdeb61f9e6dd', 'answer': 'not_answerable'}\n"
     ]
    }
   ],
   "source": [
    "# for i in data:\n",
    "#     for j in i['answers']:\n",
    "#         print(j)"
   ]
  },
  {
   "cell_type": "code",
   "execution_count": 35,
   "id": "d035708c",
   "metadata": {},
   "outputs": [],
   "source": [
    "# q = ['question_f663a689-3e35-484f-8d7c-f9df0d87178f',\n",
    "#     'question_4d813bf9-9c81-410a-b1c0-fe93d1e2a7eb',\n",
    "#     'question_c2d1ea76-1de1-46a0-b287-bd6d11785f2d',\n",
    "#     'question_3a080e92-c840-4e53-8935-d8db0b5fafe8',\n",
    "#     'question_fa14a344-7f51-4e5c-b526-a81e589da78a']\n",
    "\n",
    "# size_glass_file = []\n",
    "# size_glass_class = []\n",
    "# size_glass_conf = []\n",
    "\n",
    "# type_of_damage_file = []\n",
    "# type_of_damage_class = []\n",
    "# type_of_damage_conf = []\n",
    "\n",
    "# incident_circumstances_file = []\n",
    "# incident_circumstances_class = []\n",
    "# incident_circumstances_conf = []\n",
    "\n",
    "\n",
    "# for xml in files:\n",
    "#     pxml = pagexml.PageXML(xml)\n",
    "#     file_name = pxml.getValue('/_:PcGts/_:Property[@key=\"uuid\"]/@value')\n",
    "#     node = pxml.selectNth('//_:PcGts', 0)\n",
    "        \n",
    "#     for question in q:    \n",
    "#         if question == 'question_f663a689-3e35-484f-8d7c-f9df0d87178f':\n",
    "#             conf = pxml.getValue('/_:PcGts/_:Property[@key=\"question_f663a689-3e35-484f-8d7c-f9df0d87178f\"]/@conf')\n",
    "#             class_ = pxml.getValue('/_:PcGts/_:Property[@key=\"question_f663a689-3e35-484f-8d7c-f9df0d87178f\"]/@value')\n",
    "            \n",
    "#             if class_ == 'answer_1f3e2bb4-918d-427c-bc87-3b5026cbb8c3':\n",
    "#                 class_ = '<= 5'\n",
    "                \n",
    "#             if class_ == 'answer_49e0e14d-1703-4906-869a-ed5bcf31acd0':\n",
    "#                 class_ = '> 12'\n",
    "            \n",
    "#             if class_ == 'answer_57bdeee2-b3ec-46d8-90c6-0d3ed7338337':\n",
    "#                 class_ = 'not_answerable'\n",
    "            \n",
    "#             size_glass_file.append(file_name + '.pdf')\n",
    "#             size_glass_class.append(class_)\n",
    "#             size_glass_conf.append(conf)\n",
    "#             with open('size_glass.tab', 'w') as f:\n",
    "#                 writer = csv.writer(f, delimiter='\\t')\n",
    "#                 writer.writerows(zip(size_glass_file, size_glass_conf, size_glass_class))\n",
    "            \n",
    "#         if question == 'question_4d813bf9-9c81-410a-b1c0-fe93d1e2a7eb':\n",
    "#             conf = pxml.getValue('/_:PcGts/_:Property[@key=\"question_4d813bf9-9c81-410a-b1c0-fe93d1e2a7eb\"]/@conf')\n",
    "#             class_ = pxml.getValue('/_:PcGts/_:Property[@key=\"question_4d813bf9-9c81-410a-b1c0-fe93d1e2a7eb\"]/@value')\n",
    "            \n",
    "#             if class_ == 'answer_7919b58c-e5ab-4d54-aa23-2c9b6afc9c47':\n",
    "#                 class_ = 'broken'\n",
    "                \n",
    "#             if class_ == 'answer_54e0d103-bb2e-4fa2-8297-d8ad90f7140b':\n",
    "#                 class_ = 'scratched'\n",
    "            \n",
    "#             if class_ == 'answer_882912a2-79af-4850-a082-98621d8669ee':\n",
    "#                 class_ = 'not_answerable'\n",
    "                \n",
    "#             type_of_damage_file.append(file_name + '.pdf')\n",
    "#             type_of_damage_class.append(class_)\n",
    "#             type_of_damage_conf.append(conf)\n",
    "#             with open('type_of_damage.tab', 'w') as f:\n",
    "#                 writer = csv.writer(f, delimiter='\\t')\n",
    "#                 writer.writerows(zip(type_of_damage_file, type_of_damage_conf, type_of_damage_class))\n",
    "        \n",
    "#         if question == 'question_c2d1ea76-1de1-46a0-b287-bd6d11785f2d':\n",
    "#             conf = pxml.getValue('/_:PcGts/_:Property[@key=\"question_c2d1ea76-1de1-46a0-b287-bd6d11785f2d\"]/@conf')\n",
    "#             class_ = pxml.getValue('/_:PcGts/_:Property[@key=\"question_c2d1ea76-1de1-46a0-b287-bd6d11785f2d\"]/@value')\n",
    "            \n",
    "#             if class_ == 'answer_7919b58c-e5ab-4d54-aa23-2c9b6afc9c47':\n",
    "#                 class_ = 'broken'\n",
    "                \n",
    "#             if class_ == 'answer_54e0d103-bb2e-4fa2-8297-d8ad90f7140b':\n",
    "#                 class_ = 'scratched'\n",
    "            \n",
    "#             if class_ == 'answer_882912a2-79af-4850-a082-98621d8669ee':\n",
    "#                 class_ = 'not_answerable'\n",
    "            \n",
    "#             incident_circumstances_file.append(file_name + '.pdf')\n",
    "#             incident_circumstances_class.append(class_)\n",
    "#             incident_circumstances_conf.append(conf)\n",
    "\n",
    "            "
   ]
  },
  {
   "cell_type": "code",
   "execution_count": 15,
   "id": "468bb9a4",
   "metadata": {},
   "outputs": [],
   "source": [
    "li_class.clear()"
   ]
  },
  {
   "cell_type": "code",
   "execution_count": 39,
   "id": "f7df3726",
   "metadata": {},
   "outputs": [],
   "source": [
    "def foo(ARGUMENT):\n",
    "    class_ = pxml.getValue(f'/_:PcGts/_:Property[@key=\"{ARGUMENT}\"]/@value')\n",
    "    return class_"
   ]
  },
  {
   "cell_type": "code",
   "execution_count": 40,
   "id": "7014307e",
   "metadata": {},
   "outputs": [
    {
     "data": {
      "text/plain": [
       "'answer_1f3e2bb4-918d-427c-bc87-3b5026cbb8c3'"
      ]
     },
     "execution_count": 40,
     "metadata": {},
     "output_type": "execute_result"
    }
   ],
   "source": [
    "foo(ARGUMENT = 'question_f663a689-3e35-484f-8d7c-f9df0d87178f')"
   ]
  },
  {
   "cell_type": "code",
   "execution_count": 39,
   "id": "a0ae08f7",
   "metadata": {},
   "outputs": [
    {
     "name": "stdout",
     "output_type": "stream",
     "text": [
      "3ddd36d6-4624-4767-8cfc-d8a48e832125\n",
      "4915178d-a050-4efb-8995-2486ec942e7e\n",
      "1dd99b39-bda5-45ca-9b47-fd142bfc6c3d\n",
      "a2f7feef-e257-451b-91fc-f21eb58906bc\n",
      "0e473307-df6d-4561-a94f-53f26b109a15\n",
      "9872fbfa-88cd-4edf-9dfe-728891382479\n",
      "3cd7ec39-dcb0-4531-b4b3-c61278c7c50a\n",
      "54a341a0-482a-4b4b-a0f1-500deab76a1a\n",
      "a3e44c43-cba0-4871-9fd8-177ff6cedb41\n",
      "2531dbe4-6424-4a00-a61e-f48362abf84c\n",
      "5d514175-1cb5-4d26-9c95-3a1c99010fb7\n",
      "29d541aa-6e26-4c05-896d-a7e87d6b7881\n",
      "231d4e9b-f424-415a-810d-204cf0571bb8\n",
      "3db64ae4-70cc-4a26-9073-81d61215db1b\n"
     ]
    }
   ],
   "source": [
    "import uuid\n",
    "for i in range(1,15):\n",
    "    print(uuid.uuid4())"
   ]
  },
  {
   "cell_type": "code",
   "execution_count": null,
   "id": "4bd0fdb2",
   "metadata": {},
   "outputs": [],
   "source": []
  }
 ],
 "metadata": {
  "kernelspec": {
   "display_name": "Python 3.8.10 64-bit ('venv': venv)",
   "language": "python",
   "name": "python3810jvsc74a57bd051fccd841a4e8c600e54a81aeceb012198bea5019e15585581a79e159edddade"
  },
  "language_info": {
   "codemirror_mode": {
    "name": "ipython",
    "version": 3
   },
   "file_extension": ".py",
   "mimetype": "text/x-python",
   "name": "python",
   "nbconvert_exporter": "python",
   "pygments_lexer": "ipython3",
   "version": "3.8.10"
  }
 },
 "nbformat": 4,
 "nbformat_minor": 5
}
