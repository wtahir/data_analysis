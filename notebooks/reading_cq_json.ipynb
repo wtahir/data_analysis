{
 "cells": [
  {
   "cell_type": "code",
   "execution_count": 1,
   "id": "93cd8f6e",
   "metadata": {},
   "outputs": [],
   "source": [
    "import json\n",
    "import glob\n",
    "import csv"
   ]
  },
  {
   "cell_type": "code",
   "execution_count": 79,
   "id": "d3debee2",
   "metadata": {},
   "outputs": [],
   "source": [
    "# files = glob.glob('/home/waqas/repos/platform-client/platform_client/test_cases/*.json')\n",
    "\n",
    "\n",
    "# for jsons in files:\n",
    "#     with open(jsons) as f:\n",
    "#         data = json.load(f)\n",
    "#         print(data)\n",
    "\n",
    "with open('/home/waqas/repos/platform-client/platform_client/test_cases/21800019620.json') as f:\n",
    "    data = json.load(f)"
   ]
  },
  {
   "cell_type": "code",
   "execution_count": 80,
   "id": "d1c685d4",
   "metadata": {},
   "outputs": [],
   "source": [
    "que = []\n",
    "ans = []\n",
    "for i in data['payload']['questions']:\n",
    "    que.append(i['question'])\n",
    "    ans.append(i['answer']['value'])\n",
    "#     print(i['question'], '\\n',i['answer']['value'])\n",
    "    with open('text.txt', 'w') as f:\n",
    "        writer = csv.writer(f, delimiter='\\t')\n",
    "        writer.writerows(zip(que, ans))"
   ]
  },
  {
   "cell_type": "code",
   "execution_count": null,
   "id": "eee13c1c",
   "metadata": {},
   "outputs": [],
   "source": []
  }
 ],
 "metadata": {
  "kernelspec": {
   "display_name": "Python 3.8.10 64-bit ('venv': venv)",
   "language": "python",
   "name": "python3810jvsc74a57bd051fccd841a4e8c600e54a81aeceb012198bea5019e15585581a79e159edddade"
  },
  "language_info": {
   "codemirror_mode": {
    "name": "ipython",
    "version": 3
   },
   "file_extension": ".py",
   "mimetype": "text/x-python",
   "name": "python",
   "nbconvert_exporter": "python",
   "pygments_lexer": "ipython3",
   "version": "3.8.10"
  }
 },
 "nbformat": 4,
 "nbformat_minor": 5
}
