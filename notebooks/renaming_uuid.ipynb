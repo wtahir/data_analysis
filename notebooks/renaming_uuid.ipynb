{
 "cells": [
  {
   "cell_type": "code",
   "execution_count": null,
   "metadata": {},
   "outputs": [],
   "source": [
    "import uuid\n",
    "import os\n",
    "import glob\n",
    "import pandas as pd\n",
    "from os.path import isfile, join\n",
    "import json"
   ]
  },
  {
   "cell_type": "code",
   "execution_count": null,
   "metadata": {},
   "outputs": [],
   "source": [
    "alpr = '/home/waqas/Desktop/exp/alpr/'\n",
    "images = '/home/waqas/Desktop/exp/images/'\n",
    "plate = '/home/waqas/Desktop/exp/platerecognizer/'\n",
    "\n",
    "\n",
    "\n",
    "for f in os.listdir(images):\n",
    "    if not f.startswith('.') and isfile(join(images, f)):\n",
    "        id = uuid.uuid1()\n",
    "        fileEnding = f.split(\".\")\n",
    "        fileEnding = \".\" + fileEnding[len(fileEnding)-1]\n",
    "\n",
    "        # loop through every file in images\n",
    "        for f1 in os.listdir(alpr):\n",
    "            if not f1.startswith('.') and isfile(join(alpr, f1)):\n",
    "                os.rename(os.path.join(alpr,f1), os.path.join(alpr,f1.replace(f, str(id) + fileEnding)))\n",
    "                \n",
    "        # loop through every file in plate...\n",
    "        for f2 in os.listdir(plate):\n",
    "            if not f2.startswith('.') and isfile(join(plate, f2)):\n",
    "                os.rename(os.path.join(plate,f2), os.path.join(plate,f2.replace(f, str(id) + fileEnding)))\n",
    "\n",
    "        fNew = f.replace(f, str(id) + fileEnding)\n",
    "        os.rename(os.path.join(images,f), os.path.join(images,fNew))"
   ]
  }
 ],
 "metadata": {
  "kernelspec": {
   "display_name": "Python 3",
   "language": "python",
   "name": "python3"
  },
  "language_info": {
   "codemirror_mode": {
    "name": "ipython",
    "version": 3
   },
   "file_extension": ".py",
   "mimetype": "text/x-python",
   "name": "python",
   "nbconvert_exporter": "python",
   "pygments_lexer": "ipython3",
   "version": "3.6.7"
  }
 },
 "nbformat": 4,
 "nbformat_minor": 2
}
