{
 "cells": [
  {
   "cell_type": "code",
   "execution_count": null,
   "id": "f5369110",
   "metadata": {},
   "outputs": [],
   "source": [
    "df = pd.read_csv('/home/waqas/repos/lob/10_files.csv', sep='\\t')\n",
    "\n",
    "li_file = []\n",
    "li_class = []\n",
    "li_value = []\n",
    "\n",
    "for i, rows in  df.iterrows():\n",
    "    s = client.get_document_simple('ef3f56e2-af88-48f5-b3a0-415dc0558314', rows['id'])\n",
    "    class_ = s['payload']['documentClasses'][0]['value']\n",
    "    if bool(s['payload']['entities']['damaged_items']) == True:\n",
    "        value_ = [i['damage_item_title']['value'] for i in (s['payload']['entities']['damaged_items']['damaged_item'])]\n",
    "        li_value.append(value_)\n",
    "    else:\n",
    "        li_value.append('none')\n",
    "\n",
    "    li_file.append(rows['filename'])\n",
    "    li_class.append(class_)\n",
    "    with open('sample.txt', 'w') as f:\n",
    "        writer = csv.writer(f, delimiter='\\t')"
   ]
  }
 ],
 "metadata": {
  "kernelspec": {
   "display_name": "Python 3",
   "language": "python",
   "name": "python3"
  },
  "language_info": {
   "codemirror_mode": {
    "name": "ipython",
    "version": 3
   },
   "file_extension": ".py",
   "mimetype": "text/x-python",
   "name": "python",
   "nbconvert_exporter": "python",
   "pygments_lexer": "ipython3",
   "version": "3.8.10"
  }
 },
 "nbformat": 4,
 "nbformat_minor": 5
}
