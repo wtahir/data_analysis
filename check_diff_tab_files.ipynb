{
 "cells": [
  {
   "cell_type": "code",
   "execution_count": 36,
   "id": "b07f531c",
   "metadata": {},
   "outputs": [],
   "source": [
    "import pandas as pd"
   ]
  },
  {
   "cell_type": "code",
   "execution_count": 37,
   "id": "d0175649",
   "metadata": {},
   "outputs": [],
   "source": [
    "gt = pd.read_csv('/home/waqas/LOB/cq_ml_reports/glass_model/damage_site/gt_damage_site.tab', sep='\\t', header=None)\n",
    "pr = pd.read_csv('/home/waqas/LOB/cq_ml_reports/glass_model/damage_site/pr_damage_site.tab', sep='\\t', header=None)\n",
    "\n",
    "gt.columns = ['files', 'value']\n",
    "\n",
    "pr.columns = ['files', 'conf', 'value']"
   ]
  },
  {
   "cell_type": "code",
   "execution_count": 38,
   "id": "295e1015",
   "metadata": {},
   "outputs": [],
   "source": [
    "gt = gt.drop('value', 1)\n",
    "pr = pr.drop('conf', 1)"
   ]
  },
  {
   "cell_type": "code",
   "execution_count": 39,
   "id": "fca299e3",
   "metadata": {},
   "outputs": [],
   "source": [
    "pr = pr.drop('value', 1)"
   ]
  },
  {
   "cell_type": "code",
   "execution_count": 40,
   "id": "107b1f43",
   "metadata": {},
   "outputs": [
    {
     "data": {
      "text/html": [
       "<div>\n",
       "<style scoped>\n",
       "    .dataframe tbody tr th:only-of-type {\n",
       "        vertical-align: middle;\n",
       "    }\n",
       "\n",
       "    .dataframe tbody tr th {\n",
       "        vertical-align: top;\n",
       "    }\n",
       "\n",
       "    .dataframe thead th {\n",
       "        text-align: right;\n",
       "    }\n",
       "</style>\n",
       "<table border=\"1\" class=\"dataframe\">\n",
       "  <thead>\n",
       "    <tr style=\"text-align: right;\">\n",
       "      <th></th>\n",
       "      <th>files</th>\n",
       "    </tr>\n",
       "  </thead>\n",
       "  <tbody>\n",
       "    <tr>\n",
       "      <th>46</th>\n",
       "      <td>83dd56dc-0653-4276-83bb-a17af3088574.pdf</td>\n",
       "    </tr>\n",
       "  </tbody>\n",
       "</table>\n",
       "</div>"
      ],
      "text/plain": [
       "                                       files\n",
       "46  83dd56dc-0653-4276-83bb-a17af3088574.pdf"
      ]
     },
     "execution_count": 40,
     "metadata": {},
     "output_type": "execute_result"
    }
   ],
   "source": [
    "df = pd.concat([pr,gt]).drop_duplicates(keep=False)\n",
    "df"
   ]
  },
  {
   "cell_type": "code",
   "execution_count": null,
   "id": "e19bc877",
   "metadata": {},
   "outputs": [],
   "source": []
  }
 ],
 "metadata": {
  "kernelspec": {
   "display_name": "Python 3.8.10 64-bit ('venv': venv)",
   "language": "python",
   "name": "python3810jvsc74a57bd051fccd841a4e8c600e54a81aeceb012198bea5019e15585581a79e159edddade"
  },
  "language_info": {
   "codemirror_mode": {
    "name": "ipython",
    "version": 3
   },
   "file_extension": ".py",
   "mimetype": "text/x-python",
   "name": "python",
   "nbconvert_exporter": "python",
   "pygments_lexer": "ipython3",
   "version": "3.8.10"
  }
 },
 "nbformat": 4,
 "nbformat_minor": 5
}
