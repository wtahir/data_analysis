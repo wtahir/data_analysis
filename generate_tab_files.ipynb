{
 "cells": [
  {
   "cell_type": "code",
   "execution_count": 51,
   "id": "ff6ede5b",
   "metadata": {},
   "outputs": [],
   "source": [
    "import pagexml\n",
    "import glob\n",
    "import csv\n",
    "import json"
   ]
  },
  {
   "cell_type": "code",
   "execution_count": 52,
   "id": "ba471dd4",
   "metadata": {},
   "outputs": [],
   "source": [
    "files = glob.glob('/home/waqas/LOB/glass_model/cq_glass_VIE_test_pr_xmls/*.xml')"
   ]
  },
  {
   "cell_type": "code",
   "execution_count": 53,
   "id": "f975c22b",
   "metadata": {},
   "outputs": [],
   "source": [
    "def create_tab_files(files_path, tabfile_name, question_uuid, json_file, gt_or_pr):\n",
    "    li_files = []\n",
    "    li_class = []\n",
    "    li_conf = []\n",
    "    \n",
    "    with open(json_file) as f:\n",
    "        data = json.load(f)\n",
    "    \n",
    "    for i in data:   \n",
    "        for j in i['answers']:\n",
    "            for xml in files_path:\n",
    "                pxml = pagexml.PageXML(xml)\n",
    "                file_name = pxml.getValue('/_:PcGts/_:Property[@key=\"fileName\"]/@value')\n",
    "                node = pxml.selectNth('//_:PcGts', 0)\n",
    "                conf = pxml.getValue(f'/_:PcGts/_:Property[@key=\"{question_uuid}\"]/@conf')\n",
    "                class_ = pxml.getValue(f'/_:PcGts/_:Property[@key=\"{question_uuid}\"]/@value')\n",
    "\n",
    "                if class_[7:] == j['id']:\n",
    "                    class_ = j['answer']\n",
    "\n",
    "                    li_files.append(file_name)\n",
    "                    li_class.append(class_)\n",
    "                    li_conf.append(conf)\n",
    "                    \n",
    "            if gt_or_pr == 'pr':\n",
    "                with open('pr_' + tabfile_name + '.tab', 'w') as f:\n",
    "                    writer = csv.writer(f, delimiter='\\t')\n",
    "                    writer.writerows(zip(li_files, li_conf, li_class))\n",
    "            \n",
    "            if gt_or_pr == 'gt':\n",
    "                with open('gt_' + tabfile_name + '.tab', 'w') as f:\n",
    "                    writer = csv.writer(f, delimiter='\\t')\n",
    "                    writer.writerows(zip(li_files, li_class))"
   ]
  },
  {
   "cell_type": "code",
   "execution_count": 54,
   "id": "e6eb508c",
   "metadata": {},
   "outputs": [],
   "source": [
    "create_tab_files(files_path=files, tabfile_name= 'damaged_window_was_already_installed', question_uuid= 'question_fa14a344-7f51-4e5c-b526-a81e589da78a',\n",
    "                json_file = '../glass.json', gt_or_pr = 'pr') "
   ]
  },
  {
   "cell_type": "code",
   "execution_count": null,
   "id": "efbe132e",
   "metadata": {},
   "outputs": [],
   "source": []
  }
 ],
 "metadata": {
  "kernelspec": {
   "display_name": "Python 3.8.10 64-bit ('venv': venv)",
   "language": "python",
   "name": "python3810jvsc74a57bd051fccd841a4e8c600e54a81aeceb012198bea5019e15585581a79e159edddade"
  },
  "language_info": {
   "codemirror_mode": {
    "name": "ipython",
    "version": 3
   },
   "file_extension": ".py",
   "mimetype": "text/x-python",
   "name": "python",
   "nbconvert_exporter": "python",
   "pygments_lexer": "ipython3",
   "version": "3.8.10"
  }
 },
 "nbformat": 4,
 "nbformat_minor": 5
}
