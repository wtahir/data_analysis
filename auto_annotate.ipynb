{
 "cells": [
  {
   "cell_type": "code",
   "execution_count": 1,
   "id": "5a9b3ea5",
   "metadata": {},
   "outputs": [],
   "source": [
    "import pandas as pd"
   ]
  },
  {
   "cell_type": "code",
   "execution_count": 7,
   "id": "dd5c7eb1",
   "metadata": {},
   "outputs": [
    {
     "data": {
      "text/html": [
       "<div>\n",
       "<style scoped>\n",
       "    .dataframe tbody tr th:only-of-type {\n",
       "        vertical-align: middle;\n",
       "    }\n",
       "\n",
       "    .dataframe tbody tr th {\n",
       "        vertical-align: top;\n",
       "    }\n",
       "\n",
       "    .dataframe thead th {\n",
       "        text-align: right;\n",
       "    }\n",
       "</style>\n",
       "<table border=\"1\" class=\"dataframe\">\n",
       "  <thead>\n",
       "    <tr style=\"text-align: right;\">\n",
       "      <th></th>\n",
       "      <th>documentName</th>\n",
       "      <th>documentClass</th>\n",
       "    </tr>\n",
       "  </thead>\n",
       "  <tbody>\n",
       "  </tbody>\n",
       "</table>\n",
       "</div>"
      ],
      "text/plain": [
       "Empty DataFrame\n",
       "Columns: [documentName, documentClass]\n",
       "Index: []"
      ]
     },
     "execution_count": 7,
     "metadata": {},
     "output_type": "execute_result"
    }
   ],
   "source": [
    "df = pd.read_csv('VIE002/vie_leitungswasser_batch1_autoannotation/risks.csv')\n",
    "df"
   ]
  },
  {
   "cell_type": "code",
   "execution_count": 21,
   "id": "a7c5f75f",
   "metadata": {},
   "outputs": [],
   "source": [
    "df_lst = pd.read_csv('VIE002/vie_leitungswasser_batch1_autoannotation/water_250.lst', header=None)\n",
    "df_lst.columns = ['documentName']\n",
    "doc = ['hausrat-leitungswasser'] * 249\n",
    "df_lst['documentClass'] = doc"
   ]
  },
  {
   "cell_type": "code",
   "execution_count": 22,
   "id": "386a44dd",
   "metadata": {},
   "outputs": [],
   "source": [
    "df_lst.to_csv('VIE002/vie_leitungswasser_batch1_autoannotation/auto_annotate.csv', sep=',', index=False)"
   ]
  },
  {
   "cell_type": "code",
   "execution_count": 15,
   "id": "faefe770",
   "metadata": {},
   "outputs": [],
   "source": [
    "! rm -rf VIE002/vie_leitungswasser_batch1_autoannotation/risks.csv"
   ]
  },
  {
   "cell_type": "code",
   "execution_count": null,
   "id": "9b17f306",
   "metadata": {},
   "outputs": [],
   "source": []
  }
 ],
 "metadata": {
  "kernelspec": {
   "display_name": "Python 3",
   "language": "python",
   "name": "python3"
  },
  "language_info": {
   "codemirror_mode": {
    "name": "ipython",
    "version": 3
   },
   "file_extension": ".py",
   "mimetype": "text/x-python",
   "name": "python",
   "nbconvert_exporter": "python",
   "pygments_lexer": "ipython3",
   "version": "3.8.10"
  }
 },
 "nbformat": 4,
 "nbformat_minor": 5
}
